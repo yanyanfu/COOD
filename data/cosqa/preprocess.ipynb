{
 "cells": [
  {
   "cell_type": "code",
   "execution_count": 11,
   "metadata": {},
   "outputs": [],
   "source": [
    "import json\n",
    "import os\n",
    "import numpy as np\n",
    "import regex as re\n",
    "import pandas as pd"
   ]
  },
  {
   "cell_type": "code",
   "execution_count": 12,
   "metadata": {},
   "outputs": [],
   "source": [
    "np.random.seed(0)"
   ]
  },
  {
   "cell_type": "code",
   "execution_count": 13,
   "metadata": {},
   "outputs": [
    {
     "name": "stdout",
     "output_type": "stream",
     "text": [
      "{\n",
      "    \"idx\": \"cosqa-train-0\",\n",
      "    \"doc\": \"python code to write bool value 1\",\n",
      "    \"code\": \"def writeBoolean(self, n):\\n        \\\"\\\"\\\"\\n        Writes a Boolean to the stream.\\n        \\\"\\\"\\\"\\n        t = TYPE_BOOL_TRUE\\n\\n        if n is False:\\n            t = TYPE_BOOL_FALSE\\n\\n        self.stream.write(t)\",\n",
      "    \"code_tokens\": \"def writeBoolean ( self , n ) : t = TYPE_BOOL_TRUE if n is False : t = TYPE_BOOL_FALSE self . stream . write ( t )\",\n",
      "    \"docstring_tokens\": \"Writes a Boolean to the stream .\",\n",
      "    \"label\": 0,\n",
      "    \"retrieval_idx\": 0\n",
      "}\n"
     ]
    }
   ],
   "source": [
    "train_raw = json.load(open('cosqa-retrieval-train-19604.json', 'r'))\n",
    "print(json.dumps(train_raw[0], indent=4))"
   ]
  },
  {
   "cell_type": "code",
   "execution_count": 14,
   "metadata": {},
   "outputs": [],
   "source": [
    "train = []\n",
    "\n",
    "for row in train_raw:\n",
    "    train_dict = {}\n",
    "    train_dict['id'] = 'train-python-{}'.format(row['idx'])\n",
    "    train_dict['code'] = row['code']\n",
    "    train_dict['text'] = row['doc']\n",
    "    train_dict['label'] = row['label']\n",
    "    train_dict['raw'] = row['code']\n",
    "    if row['label'] == 1:\n",
    "        train.append(train_dict)"
   ]
  },
  {
   "cell_type": "code",
   "execution_count": 6,
   "metadata": {},
   "outputs": [],
   "source": [
    "# choice = np.random.choice(len(train), replace=False)\n",
    "# with open('mutant0/temp.py', 'w') as f:\n",
    "#     f.write(train[choice]['raw'])\n",
    "\n",
    "# import subprocess\n",
    "# proc = subprocess.run(['sh', 'mutate.sh', 'mutant0'], executable='/bin/bash')\n",
    "# print(proc)"
   ]
  },
  {
   "cell_type": "code",
   "execution_count": 7,
   "metadata": {},
   "outputs": [],
   "source": [
    "# print(proc.returncode)"
   ]
  },
  {
   "cell_type": "code",
   "execution_count": 15,
   "metadata": {},
   "outputs": [
    {
     "name": "stdout",
     "output_type": "stream",
     "text": [
      "{\n",
      "    \"id\": \"train-python-cosqa-train-9\",\n",
      "    \"code\": \"Convert Matrix attributes which are array - like or buffer to array . def _convert_to_array ( array_like , dtype ) : if isinstance ( array_like , bytes ) : return np . frombuffer ( array_like , dtype = dtype ) return np . asarray ( array_like , dtype = dtype )\",\n",
      "    \"text\": \"1d array in char datatype in python\",\n",
      "    \"label\": 1,\n",
      "    \"raw\": \"def _convert_to_array(array_like, dtype):\\n        \\\"\\\"\\\"\\n        Convert Matrix attributes which are array-like or buffer to array.\\n        \\\"\\\"\\\"\\n        if isinstance(array_like, bytes):\\n            return np.frombuffer(array_like, dtype=dtype)\\n        return np.asarray(array_like, dtype=dtype)\"\n",
      "}\n"
     ]
    }
   ],
   "source": [
    "print(json.dumps(train[0], indent=4))"
   ]
  },
  {
   "cell_type": "code",
   "execution_count": 16,
   "metadata": {},
   "outputs": [],
   "source": [
    "test_raw = json.load(open('cosqa-retrieval-dev-500.json', 'r'))\n",
    "test_raw += json.load(open('cosqa-retrieval-test-500.json', 'r'))"
   ]
  },
  {
   "cell_type": "code",
   "execution_count": 17,
   "metadata": {},
   "outputs": [],
   "source": [
    "test = []\n",
    "\n",
    "for row in test_raw:\n",
    "    test_dict = {}\n",
    "    test_dict['id'] = 'test-python-{}'.format(row['idx'])\n",
    "    test_dict['code'] = row['docstring_tokens'] + ' ' + row['code_tokens']\n",
    "    test_dict['text'] = row['doc']\n",
    "    test_dict['label'] = row['label']\n",
    "    test_dict['raw'] = row['code']\n",
    "    if row['label'] == 1:\n",
    "        test.append(test_dict)"
   ]
  },
  {
   "cell_type": "code",
   "execution_count": 18,
   "metadata": {},
   "outputs": [],
   "source": [
    "# train_size = int(len(train) * 0.1)\n",
    "# test_size = int(len(test) * 0.25)\n",
    "# train = list(np.random.choice(train, train_size, replace=False))\n",
    "# test = list(np.random.choice(test, test_size, replace=False))\n",
    "np.random.shuffle(train)\n",
    "np.random.shuffle(test)\n",
    "\n",
    "valid_size = int(len(train) * 0.1)\n",
    "valid = train[:valid_size]\n",
    "train = train[valid_size:]"
   ]
  },
  {
   "cell_type": "code",
   "execution_count": 19,
   "metadata": {},
   "outputs": [
    {
     "name": "stdout",
     "output_type": "stream",
     "text": [
      "8118\n",
      "902\n",
      "1000\n"
     ]
    }
   ],
   "source": [
    "print(len(train))\n",
    "print(len(valid))\n",
    "print(len(test))"
   ]
  },
  {
   "cell_type": "code",
   "execution_count": 20,
   "metadata": {},
   "outputs": [],
   "source": [
    "with open('data_train.json', 'w') as f:\n",
    "    json.dump(train, f, indent=2)\n",
    "\n",
    "with open('data_valid.json', 'w') as f:\n",
    "    json.dump(valid, f, indent=2)\n",
    "\n",
    "with open('data_test.json', 'w') as f:\n",
    "    json.dump(test, f, indent=2)\n"
   ]
  },
  {
   "cell_type": "code",
   "execution_count": 21,
   "metadata": {},
   "outputs": [
    {
     "name": "stdout",
     "output_type": "stream",
     "text": [
      "[\n",
      "    {\n",
      "        \"id\": \"train-python-cosqa-train-10116\",\n",
      "        \"code\": \"Convert a one element byte string to signed int for python 2 support . def bin_to_int ( string ) : if isinstance ( string , str ) : return struct . unpack ( \\\"b\\\" , string ) [ 0 ] else : return struct . unpack ( \\\"b\\\" , bytes ( [ string ] ) ) [ 0 ]\",\n",
      "        \"text\": \"python3 bytes to signed int\",\n",
      "        \"label\": 1,\n",
      "        \"raw\": \"def bin_to_int(string):\\n    \\\"\\\"\\\"Convert a one element byte string to signed int for python 2 support.\\\"\\\"\\\"\\n    if isinstance(string, str):\\n        return struct.unpack(\\\"b\\\", string)[0]\\n    else:\\n        return struct.unpack(\\\"b\\\", bytes([string]))[0]\"\n",
      "    },\n",
      "    {\n",
      "        \"id\": \"train-python-cosqa-train-18151\",\n",
      "        \"code\": \"Returns the year . def year ( date ) : try : fmt = '%m/%d/%Y' return datetime . strptime ( date , fmt ) . timetuple ( ) . tm_year except ValueError : return 0\",\n",
      "        \"text\": \"get year from datetime date python\",\n",
      "        \"label\": 1,\n",
      "        \"raw\": \"def year(date):\\n    \\\"\\\"\\\" Returns the year.\\n\\n    :param date:\\n        The string date with this format %m/%d/%Y\\n    :type date:\\n        String\\n\\n    :returns:\\n        int\\n\\n    :example:\\n        >>> year('05/1/2015')\\n        2015\\n    \\\"\\\"\\\"\\n    try:\\n        fmt = '%m/%d/%Y'\\n        return datetime.strptime(date, fmt).timetuple().tm_year\\n    except ValueError:\\n        return 0\"\n",
      "    }\n",
      "]\n"
     ]
    }
   ],
   "source": [
    "print(json.dumps(train[:2], indent=4))"
   ]
  }
 ],
 "metadata": {
  "kernelspec": {
   "display_name": "Python 3.9.12 ('torch-env')",
   "language": "python",
   "name": "python3"
  },
  "language_info": {
   "codemirror_mode": {
    "name": "ipython",
    "version": 3
   },
   "file_extension": ".py",
   "mimetype": "text/x-python",
   "name": "python",
   "nbconvert_exporter": "python",
   "pygments_lexer": "ipython3",
   "version": "3.9.13"
  },
  "orig_nbformat": 4,
  "vscode": {
   "interpreter": {
    "hash": "f6b883c92240247a61f0a90bd9fcab4b7e88d74efaf3f0a2714ac8f9d9a63ad2"
   }
  }
 },
 "nbformat": 4,
 "nbformat_minor": 2
}
