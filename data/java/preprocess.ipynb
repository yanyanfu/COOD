{
 "cells": [
  {
   "cell_type": "code",
   "execution_count": 17,
   "metadata": {},
   "outputs": [],
   "source": [
    "import json\n",
    "import os\n",
    "import numpy as np\n",
    "import regex as re\n",
    "import pandas as pd"
   ]
  },
  {
   "cell_type": "code",
   "execution_count": 18,
   "metadata": {},
   "outputs": [],
   "source": [
    "np.random.seed(0)"
   ]
  },
  {
   "cell_type": "code",
   "execution_count": 19,
   "metadata": {},
   "outputs": [
    {
     "name": "stdout",
     "output_type": "stream",
     "text": [
      "{\n",
      "    \"idx\": 1,\n",
      "    \"doc\": \"Expects a height mat as input\",\n",
      "    \"code\": \"@ Override public ImageSource apply ( ImageSource input ) { final int [ ] [ ] pixelMatrix = new int [ 3 ] [ 3 ] ; int w = input . getWidth ( ) ; int h = input . getHeight ( ) ; int [ ] [ ] output = new int [ h ] [ w ] ; for ( int j = 1 ; j < h - 1 ; j ++ ) { for ( int i = 1 ; i < w - 1 ; i ++ ) { pixelMatrix [ 0 ] [ 0 ] = input . getR ( i - 1 , j - 1 ) ; pixelMatrix [ 0 ] [ 1 ] = input . getRGB ( i - 1 , j ) ; pixelMatrix [ 0 ] [ 2 ] = input . getRGB ( i - 1 , j + 1 ) ; pixelMatrix [ 1 ] [ 0 ] = input . getRGB ( i , j - 1 ) ; pixelMatrix [ 1 ] [ 2 ] = input . getRGB ( i , j + 1 ) ; pixelMatrix [ 2 ] [ 0 ] = input . getRGB ( i + 1 , j - 1 ) ; pixelMatrix [ 2 ] [ 1 ] = input . getRGB ( i + 1 , j ) ; pixelMatrix [ 2 ] [ 2 ] = input . getRGB ( i + 1 , j + 1 ) ; int edge = ( int ) convolution ( pixelMatrix ) ; int rgb = ( edge << 16 | edge << 8 | edge ) ; output [ j ] [ i ] = rgb ; } } MatrixSource source = new MatrixSource ( output ) ; return source ; }\",\n",
      "    \"label\": 1\n",
      "}\n"
     ]
    }
   ],
   "source": [
    "train_raw = json.load(open('train_codesearchnet_0.json', 'r'))\n",
    "print(json.dumps(train_raw[0], indent=4))"
   ]
  },
  {
   "cell_type": "code",
   "execution_count": 20,
   "metadata": {},
   "outputs": [],
   "source": [
    "train = []\n",
    "\n",
    "for row in train_raw:\n",
    "    train_dict = {}\n",
    "    train_dict['id'] = 'train-java-{}'.format(row['idx'])\n",
    "    train_dict['code'] = row['code']\n",
    "    train_dict['text'] = row['doc']\n",
    "    train_dict['label'] = row['label']\n",
    "    train_dict['raw'] = ''\n",
    "    train.append(train_dict)"
   ]
  },
  {
   "cell_type": "code",
   "execution_count": 21,
   "metadata": {},
   "outputs": [
    {
     "name": "stdout",
     "output_type": "stream",
     "text": [
      "{\n",
      "    \"idx\": 1,\n",
      "    \"doc\": \"Makes sure the fast - path emits in order .\",\n",
      "    \"code\": \"protected final void fastPathOrderedEmit ( U value , boolean delayError , Disposable disposable ) { final Observer < ? super V > observer = downstream ; final SimplePlainQueue < U > q = queue ; if ( wip . get ( ) == 0 && wip . compareAndSet ( 0 , 1 ) ) { if ( q . isEmpty ( ) ) { accept ( observer , value ) ; if ( leave ( - 1 ) == 0 ) { return ; } } else { q . offer ( value ) ; } } else { q . offer ( value ) ; if ( ! enter ( ) ) { return ; } } QueueDrainHelper . drainLoop ( q , observer , delayError , disposable , this ) ; }\",\n",
      "    \"label\": 1\n",
      "}\n"
     ]
    }
   ],
   "source": [
    "test_raw = json.load(open('dev_codesearchnet.json', 'r'))\n",
    "print(json.dumps(test_raw[0], indent=4))"
   ]
  },
  {
   "cell_type": "code",
   "execution_count": 22,
   "metadata": {},
   "outputs": [],
   "source": [
    "test = []\n",
    "\n",
    "for row in test_raw:\n",
    "    test_dict = {}\n",
    "    test_dict['id'] = 'test-java-{}'.format(row['idx'])\n",
    "    test_dict['code'] = row['code']\n",
    "    test_dict['text'] = row['doc']\n",
    "    test_dict['label'] = row['label']\n",
    "    test_dict['raw'] = ''\n",
    "    test.append(test_dict)"
   ]
  },
  {
   "cell_type": "code",
   "execution_count": 23,
   "metadata": {},
   "outputs": [],
   "source": [
    "np.random.shuffle(train)\n",
    "np.random.shuffle(test)\n",
    "\n",
    "valid_size = int(len(train) * 0.1)\n",
    "valid = train[:valid_size]\n",
    "train = train[valid_size:]"
   ]
  },
  {
   "cell_type": "code",
   "execution_count": 24,
   "metadata": {},
   "outputs": [
    {
     "name": "stdout",
     "output_type": "stream",
     "text": [
      "148431\n",
      "16492\n",
      "10955\n"
     ]
    }
   ],
   "source": [
    "print(len(train))\n",
    "print(len(valid))\n",
    "print(len(test))"
   ]
  },
  {
   "cell_type": "code",
   "execution_count": 25,
   "metadata": {},
   "outputs": [],
   "source": [
    "with open('data_train.json', 'w') as f:\n",
    "    json.dump(train, f, indent=2)\n",
    "\n",
    "with open('data_valid.json', 'w') as f:\n",
    "    json.dump(valid, f, indent=2)\n",
    "\n",
    "with open('data_test.json', 'w') as f:\n",
    "    json.dump(test, f, indent=2)\n"
   ]
  },
  {
   "cell_type": "code",
   "execution_count": 26,
   "metadata": {},
   "outputs": [
    {
     "name": "stdout",
     "output_type": "stream",
     "text": [
      "{\n",
      "    \"idx\": 1,\n",
      "    \"doc\": \"Adds an expression to this Select Clause with support for Constructor Expressions .\",\n",
      "    \"code\": \"public < T > QueryBuilder add ( final String lhsStatement , final Class < T > constructorClass , final String expression ) { StringBuilder itemBuilder = new StringBuilder ( ) ; if ( lhsStatement != null ) { itemBuilder . append ( lhsStatement ) ; itemBuilder . append ( \\\" \\\" ) ; } itemBuilder . append ( \\\"NEW \\\" ) ; itemBuilder . append ( constructorClass . getName ( ) ) ; itemBuilder . append ( \\\"(\\\" ) ; itemBuilder . append ( expression ) ; itemBuilder . append ( \\\")\\\" ) ; items . add ( itemBuilder . toString ( ) ) ; return builder ; }\",\n",
      "    \"raw\": \"public <T> QueryBuilder add(final String lhsStatement,\\n\\t\\t\\tfinal Class<T> constructorClass, final String expression) {\\n\\n\\t\\tStringBuilder itemBuilder = new StringBuilder();\\n\\t\\tif (lhsStatement != null) {\\n\\t\\t\\titemBuilder.append(lhsStatement);\\n\\t\\t\\titemBuilder.append(\\\" \\\");\\n\\t\\t}\\n\\t\\titemBuilder.append(\\\"NEW \\\");\\n\\t\\titemBuilder.append(constructorClass.getName());\\n\\t\\titemBuilder.append(\\\"(\\\");\\n\\t\\titemBuilder.append(expression);\\n\\t\\titemBuilder.append(\\\")\\\");\\n\\n\\t\\titems.add(itemBuilder.toString());\\n\\n\\t\\treturn builder;\\n\\n\\t}\",\n",
      "    \"label\": 1\n",
      "}\n"
     ]
    }
   ],
   "source": [
    "codebase_raw = json.load(open('dev_codebase.json', 'r'))\n",
    "print(json.dumps(codebase_raw[0], indent=4))"
   ]
  },
  {
   "cell_type": "code",
   "execution_count": 27,
   "metadata": {},
   "outputs": [],
   "source": [
    "\n",
    "codebase = []\n",
    "\n",
    "for row in codebase_raw:\n",
    "    codebase_dict = {}\n",
    "    codebase_dict['id'] = 'codebase-java-{}'.format(row['idx'])\n",
    "    codebase_dict['code'] = row['code']\n",
    "    codebase_dict['text'] = row['doc']\n",
    "    codebase_dict['label'] = row['label']\n",
    "    codebase_dict['raw'] = row['raw']\n",
    "    codebase.append(codebase_dict)"
   ]
  },
  {
   "cell_type": "code",
   "execution_count": 28,
   "metadata": {},
   "outputs": [
    {
     "name": "stdout",
     "output_type": "stream",
     "text": [
      "29392\n"
     ]
    }
   ],
   "source": [
    "np.random.shuffle(codebase)\n",
    "print(len(codebase))"
   ]
  },
  {
   "cell_type": "code",
   "execution_count": 29,
   "metadata": {},
   "outputs": [],
   "source": [
    "with open('data_codebase.json', 'w') as f:\n",
    "    json.dump(codebase, f, indent=2)"
   ]
  },
  {
   "cell_type": "code",
   "execution_count": 30,
   "metadata": {},
   "outputs": [
    {
     "name": "stdout",
     "output_type": "stream",
     "text": [
      "[\n",
      "    {\n",
      "        \"id\": \"codebase-java-2560\",\n",
      "        \"code\": \"public Decimal max ( Decimal other ) { if ( ( this == NaN ) || ( other == NaN ) ) { return NaN ; } return ( compareTo ( other ) >= 0 ? this : other ) ; }\",\n",
      "        \"text\": \"Returns the maximum of this {\",\n",
      "        \"label\": 1,\n",
      "        \"raw\": \"public Decimal max(Decimal other) {\\n        if ((this == NaN) || (other == NaN)) {\\n            return NaN;\\n        }\\n        return (compareTo(other) >= 0 ? this : other);\\n    }\"\n",
      "    },\n",
      "    {\n",
      "        \"id\": \"codebase-java-18844\",\n",
      "        \"code\": \"public static void setParameterValue ( PreparedStatement ps , int paramIndex , int sqlType , Object inValue ) throws SQLException { setParameterValueInternal ( ps , paramIndex , sqlType , null , null , inValue ) ; }\",\n",
      "        \"text\": \"Set the value for a parameter . The method used is based on the SQL type of the parameter and we can handle complex types like arrays and LOBs .\",\n",
      "        \"label\": 1,\n",
      "        \"raw\": \"public static void setParameterValue(\\n            PreparedStatement ps, int paramIndex, int sqlType, Object inValue)\\n            throws SQLException {\\n\\n        setParameterValueInternal(ps, paramIndex, sqlType, null, null, inValue);\\n    }\"\n",
      "    }\n",
      "]\n"
     ]
    }
   ],
   "source": [
    "print(json.dumps(codebase[:2], indent=4))"
   ]
  }
 ],
 "metadata": {
  "kernelspec": {
   "display_name": "Python 3.9.12 ('torch-env')",
   "language": "python",
   "name": "python3"
  },
  "language_info": {
   "codemirror_mode": {
    "name": "ipython",
    "version": 3
   },
   "file_extension": ".py",
   "mimetype": "text/x-python",
   "name": "python",
   "nbconvert_exporter": "python",
   "pygments_lexer": "ipython3",
   "version": "3.9.13"
  },
  "orig_nbformat": 4,
  "vscode": {
   "interpreter": {
    "hash": "f6b883c92240247a61f0a90bd9fcab4b7e88d74efaf3f0a2714ac8f9d9a63ad2"
   }
  }
 },
 "nbformat": 4,
 "nbformat_minor": 2
}
