{
 "cells": [
  {
   "cell_type": "code",
   "execution_count": 14,
   "metadata": {},
   "outputs": [],
   "source": [
    "import json\n",
    "import os\n",
    "import numpy as np\n",
    "import regex as re\n",
    "import pandas as pd"
   ]
  },
  {
   "cell_type": "code",
   "execution_count": 15,
   "metadata": {},
   "outputs": [],
   "source": [
    "np.random.seed(0)"
   ]
  },
  {
   "cell_type": "code",
   "execution_count": 16,
   "metadata": {},
   "outputs": [
    {
     "name": "stdout",
     "output_type": "stream",
     "text": [
      "{\n",
      "    \"idx\": 1,\n",
      "    \"doc\": \"Caused by : org . springframework . jms . support . converter . MessageConversionException : Could not find type id property [ _type ] on message\",\n",
      "    \"code\": \"@ Override public javax . jms . Message toMessage ( Object object , Session session ) throws JMSException , MessageConversionException { String json ; try { json = mapper . writeValueAsString ( object ) ; } catch ( Exception e ) { throw new MessageConversionException ( \\\"Message cannot be parsed. \\\" , e ) ; } TextMessage message = session . createTextMessage ( ) ; message . setText ( json ) ; return message ; }\",\n",
      "    \"raw\": \"\",\n",
      "    \"url\": \"\",\n",
      "    \"label\": 1\n",
      "}\n"
     ]
    }
   ],
   "source": [
    "train_raw = json.load(open('train_so_0.json', 'r'))\n",
    "print(json.dumps(train_raw[0], indent=4))"
   ]
  },
  {
   "cell_type": "code",
   "execution_count": 17,
   "metadata": {},
   "outputs": [],
   "source": [
    "train = []\n",
    "\n",
    "for row in train_raw:\n",
    "    train_dict = {}\n",
    "    train_dict['id'] = 'train-java-{}'.format(row['idx'])\n",
    "    train_dict['code'] = row['code']\n",
    "    train_dict['text'] = row['doc']\n",
    "    train_dict['label'] = row['label']\n",
    "    train_dict['raw'] = row['raw']\n",
    "    train_dict['url'] = row['url']\n",
    "    train.append(train_dict)"
   ]
  },
  {
   "cell_type": "code",
   "execution_count": 18,
   "metadata": {},
   "outputs": [],
   "source": [
    "np.random.shuffle(train)\n",
    "\n",
    "train_size = int(len(train) * 0.4)\n",
    "valid_size = int(len(train) * 0.45)\n",
    "train2 = train[:train_size]\n",
    "valid = train[train_size:valid_size]\n",
    "test = train[valid_size:]"
   ]
  },
  {
   "cell_type": "code",
   "execution_count": 19,
   "metadata": {},
   "outputs": [
    {
     "name": "stdout",
     "output_type": "stream",
     "text": [
      "1973\n",
      "247\n",
      "2714\n"
     ]
    }
   ],
   "source": [
    "print(len(train2))\n",
    "print(len(valid))\n",
    "print(len(test))"
   ]
  },
  {
   "cell_type": "code",
   "execution_count": 20,
   "metadata": {},
   "outputs": [
    {
     "name": "stdout",
     "output_type": "stream",
     "text": [
      "{\n",
      "    \"idx\": 1,\n",
      "    \"doc\": \"Send BASIC auth credentials using cxf client\",\n",
      "    \"code\": \"@ Override protected PasswordAuthentication getPasswordAuthentication ( ) { return new PasswordAuthentication ( username , password . toCharArray ( ) ) ; }\",\n",
      "    \"raw\": \"\",\n",
      "    \"url\": \"\",\n",
      "    \"label\": 1\n",
      "}\n"
     ]
    }
   ],
   "source": [
    "train_raw1 = json.load(open('train_so_1.json', 'r'))\n",
    "print(json.dumps(train_raw1[0], indent=4))"
   ]
  },
  {
   "cell_type": "code",
   "execution_count": 21,
   "metadata": {},
   "outputs": [],
   "source": [
    "train1 = []\n",
    "\n",
    "for row in train_raw1:\n",
    "    train_dict = {}\n",
    "    train_dict['id'] = row['idx']\n",
    "    train_dict['code'] = row['code']\n",
    "    train_dict['text'] = row['doc']\n",
    "    train_dict['label'] = row['label']\n",
    "    train_dict['raw'] = row['raw']\n",
    "    train_dict['url'] = row['url']\n",
    "    train1.append(train_dict)"
   ]
  },
  {
   "cell_type": "code",
   "execution_count": 22,
   "metadata": {},
   "outputs": [
    {
     "name": "stdout",
     "output_type": "stream",
     "text": [
      "20531\n"
     ]
    }
   ],
   "source": [
    "print(len(train1))"
   ]
  },
  {
   "cell_type": "code",
   "execution_count": 23,
   "metadata": {},
   "outputs": [],
   "source": [
    "idx = 4935\n",
    "for js1 in train1:\n",
    "    flag = 1\n",
    "    for js in train:    \n",
    "        if js1['code'] == js['code'] :\n",
    "            flag = 0\n",
    "            break\n",
    "    if flag:\n",
    "        js1['idx'] = 'train-java-{}'.format(idx)\n",
    "        test.append(js1)\n",
    "        if idx >= 4960:\n",
    "            break\n",
    "        idx += 1"
   ]
  },
  {
   "cell_type": "code",
   "execution_count": 24,
   "metadata": {},
   "outputs": [
    {
     "name": "stdout",
     "output_type": "stream",
     "text": [
      "2740\n"
     ]
    }
   ],
   "source": [
    "print(len(test))"
   ]
  },
  {
   "cell_type": "code",
   "execution_count": 25,
   "metadata": {},
   "outputs": [],
   "source": [
    "with open('data_train.json', 'w') as f:\n",
    "    json.dump(train2, f, indent=2)\n",
    "\n",
    "with open('data_valid.json', 'w') as f:\n",
    "    json.dump(valid, f, indent=2)\n",
    "\n",
    "with open('data_test.json', 'w') as f:\n",
    "    json.dump(test, f, indent=2)"
   ]
  },
  {
   "cell_type": "code",
   "execution_count": 26,
   "metadata": {},
   "outputs": [
    {
     "name": "stdout",
     "output_type": "stream",
     "text": [
      "1973\n",
      "247\n",
      "2740\n"
     ]
    }
   ],
   "source": [
    "print(len(train2))\n",
    "print(len(valid))\n",
    "print(len(test))"
   ]
  }
 ],
 "metadata": {
  "kernelspec": {
   "display_name": "Python 3 (ipykernel)",
   "language": "python",
   "name": "python3"
  },
  "language_info": {
   "codemirror_mode": {
    "name": "ipython",
    "version": 3
   },
   "file_extension": ".py",
   "mimetype": "text/x-python",
   "name": "python",
   "nbconvert_exporter": "python",
   "pygments_lexer": "ipython3",
   "version": "3.9.13"
  }
 },
 "nbformat": 4,
 "nbformat_minor": 2
}
