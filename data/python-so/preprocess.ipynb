{
 "cells": [
  {
   "cell_type": "code",
   "execution_count": 1,
   "metadata": {},
   "outputs": [],
   "source": [
    "import json\n",
    "import os\n",
    "import numpy as np\n",
    "import regex as re\n",
    "import pandas as pd"
   ]
  },
  {
   "cell_type": "code",
   "execution_count": 2,
   "metadata": {},
   "outputs": [],
   "source": [
    "np.random.seed(0)"
   ]
  },
  {
   "cell_type": "code",
   "execution_count": 3,
   "metadata": {},
   "outputs": [
    {
     "name": "stdout",
     "output_type": "stream",
     "text": [
      "{\n",
      "    \"idx\": 1,\n",
      "    \"doc\": \"Python - PyQt5 - MVC\",\n",
      "    \"code\": \"def initUi ( self ) : lay = QtWidgets . QVBoxLayout ( self ) title = QtWidgets . QLabel ( \\\"<b>LOGIN</b>\\\" ) lay . addWidget ( title , alignment = QtCore . Qt . AlignHCenter ) fwidget = QtWidgets . QWidget ( ) flay = QtWidgets . QFormLayout ( fwidget ) self . usernameInput = QtWidgets . QLineEdit ( ) self . usernameInput . textChanged . connect ( partial ( setattr , self , \\\"username\\\" ) ) self . passwordInput = QtWidgets . QLineEdit ( echoMode = QtWidgets . QLineEdit . Password ) self . passwordInput . textChanged . connect ( partial ( setattr , self , \\\"password\\\" ) ) self . loginButton = QtWidgets . QPushButton ( \\\"Login\\\" ) self . loginButton . clicked . connect ( self . verifySignal ) flay . addRow ( \\\"Username: \\\" , self . usernameInput ) flay . addRow ( \\\"Password: \\\" , self . passwordInput ) flay . addRow ( self . loginButton ) lay . addWidget ( fwidget , alignment = QtCore . Qt . AlignHCenter ) lay . addStretch ( )\",\n",
      "    \"raw\": \"\",\n",
      "    \"url\": \"\",\n",
      "    \"label\": 1\n",
      "}\n"
     ]
    }
   ],
   "source": [
    "train_raw = json.load(open('train_so_0.json', 'r'))\n",
    "print(json.dumps(train_raw[0], indent=4))"
   ]
  },
  {
   "cell_type": "code",
   "execution_count": 4,
   "metadata": {},
   "outputs": [],
   "source": [
    "train = []\n",
    "\n",
    "for row in train_raw:\n",
    "    train_dict = {}\n",
    "    train_dict['id'] = 'train-python-{}'.format(row['idx'])\n",
    "    train_dict['code'] = row['code']\n",
    "    train_dict['text'] = row['doc']\n",
    "    train_dict['label'] = row['label']\n",
    "    train_dict['raw'] = row['raw']\n",
    "    train_dict['url'] = row['url']\n",
    "    train.append(train_dict)"
   ]
  },
  {
   "cell_type": "code",
   "execution_count": 5,
   "metadata": {},
   "outputs": [],
   "source": [
    "np.random.shuffle(train)\n",
    "\n",
    "train_size = int(len(train) * 0.4)\n",
    "valid_size = int(len(train) * 0.45)\n",
    "train2 = train[:train_size]\n",
    "valid = train[train_size:valid_size]\n",
    "test = train[valid_size:]"
   ]
  },
  {
   "cell_type": "code",
   "execution_count": 6,
   "metadata": {},
   "outputs": [
    {
     "name": "stdout",
     "output_type": "stream",
     "text": [
      "2929\n",
      "366\n",
      "4028\n"
     ]
    }
   ],
   "source": [
    "print(len(train2))\n",
    "print(len(valid))\n",
    "print(len(test))"
   ]
  },
  {
   "cell_type": "code",
   "execution_count": 7,
   "metadata": {},
   "outputs": [],
   "source": [
    "with open('data_train.json', 'w') as f:\n",
    "    json.dump(train2, f, indent=2)\n",
    "\n",
    "with open('data_valid.json', 'w') as f:\n",
    "    json.dump(valid, f, indent=2)\n",
    "\n",
    "with open('data_test.json', 'w') as f:\n",
    "    json.dump(test, f, indent=2)"
   ]
  },
  {
   "cell_type": "code",
   "execution_count": 8,
   "metadata": {},
   "outputs": [
    {
     "name": "stdout",
     "output_type": "stream",
     "text": [
      "2929\n",
      "366\n",
      "4028\n"
     ]
    }
   ],
   "source": [
    "print(len(train2))\n",
    "print(len(valid))\n",
    "print(len(test))"
   ]
  }
 ],
 "metadata": {
  "kernelspec": {
   "display_name": "Python 3 (ipykernel)",
   "language": "python",
   "name": "python3"
  },
  "language_info": {
   "codemirror_mode": {
    "name": "ipython",
    "version": 3
   },
   "file_extension": ".py",
   "mimetype": "text/x-python",
   "name": "python",
   "nbconvert_exporter": "python",
   "pygments_lexer": "ipython3",
   "version": "3.9.13"
  }
 },
 "nbformat": 4,
 "nbformat_minor": 2
}
