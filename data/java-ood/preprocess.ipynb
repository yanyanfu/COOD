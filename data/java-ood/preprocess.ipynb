{
 "cells": [
  {
   "cell_type": "code",
   "execution_count": 8,
   "metadata": {},
   "outputs": [],
   "source": [
    "import json\n",
    "import os\n",
    "import numpy as np\n",
    "import regex as re\n",
    "import pandas as pd"
   ]
  },
  {
   "cell_type": "code",
   "execution_count": 9,
   "metadata": {},
   "outputs": [],
   "source": [
    "np.random.seed(0)"
   ]
  },
  {
   "cell_type": "code",
   "execution_count": 10,
   "metadata": {},
   "outputs": [
    {
     "name": "stdout",
     "output_type": "stream",
     "text": [
      "{\n",
      "    \"idx\": 101,\n",
      "    \"doc\": \"Determines if an option was set or not .\",\n",
      "    \"code\": \"public boolean isSet ( @ NonNull NamedOption option ) { if ( option . isBoolean ( ) ) { return option . getValue ( ) != null && option . < Boolean > getValue ( ) ; } return option . getValue ( ) != null ; }\",\n",
      "    \"raw\": \"public boolean isSet(@NonNull NamedOption option) {\\n      if (option.isBoolean()) {\\n         return option.getValue() != null && option.<Boolean>getValue();\\n      }\\n\\n      return option.getValue() != null;\\n   }\",\n",
      "    \"label\": 1\n",
      "}\n"
     ]
    }
   ],
   "source": [
    "train_raw = json.load(open('train_ood_codesearchnet.json', 'r'))\n",
    "print(json.dumps(train_raw[100], indent=4))"
   ]
  },
  {
   "cell_type": "code",
   "execution_count": 11,
   "metadata": {},
   "outputs": [
    {
     "name": "stderr",
     "output_type": "stream",
     "text": [
      "100%|██████████| 164923/164923 [00:02<00:00, 59196.12it/s]\n"
     ]
    }
   ],
   "source": [
    "from collections import Counter\n",
    "from tqdm import tqdm\n",
    "from bpe import BpeVocabulary\n",
    "\n",
    "code_vocab_counter = Counter()\n",
    "text_vocab_counter = Counter()\n",
    "\n",
    "train_id = json.load(open('../java/train_codesearchnet_0.json', 'r'))\n",
    "\n",
    "for row in tqdm(train_id):\n",
    "    code = row['code'].split()\n",
    "    text = row['doc'].split()\n",
    "    code_vocab_counter.update(code)\n",
    "    text_vocab_counter.update(text)\n",
    "\n",
    "code_bpe_vocab = BpeVocabulary(vocab_size=10000, pct_bpe=0.5)\n",
    "text_bpe_vocab = BpeVocabulary(vocab_size=10000, pct_bpe=0.5)"
   ]
  },
  {
   "cell_type": "code",
   "execution_count": 12,
   "metadata": {},
   "outputs": [
    {
     "name": "stderr",
     "output_type": "stream",
     "text": [
      "100%|██████████| 646423/646423 [00:48<00:00, 13424.66it/s]\n"
     ]
    },
    {
     "name": "stdout",
     "output_type": "stream",
     "text": [
      "5000\n",
      "5000\n"
     ]
    },
    {
     "name": "stderr",
     "output_type": "stream",
     "text": [
      "100%|██████████| 48387/48387 [00:02<00:00, 22741.81it/s]\n"
     ]
    },
    {
     "name": "stdout",
     "output_type": "stream",
     "text": [
      "5000\n",
      "5000\n"
     ]
    }
   ],
   "source": [
    "code_bpe_vocab.fit(code_vocab_counter)\n",
    "text_bpe_vocab.fit(text_vocab_counter)"
   ]
  },
  {
   "cell_type": "code",
   "execution_count": 13,
   "metadata": {},
   "outputs": [],
   "source": [
    "import spacy\n",
    "nlp = spacy.load('en_core_web_sm')\n",
    "\n",
    "from langdetect import detect\n"
   ]
  },
  {
   "cell_type": "code",
   "execution_count": 14,
   "metadata": {},
   "outputs": [],
   "source": [
    "# tokenize\n",
    "def tokenize(text):\n",
    "    doc = nlp(text)\n",
    "    tokens = [token.text for token in doc]\n",
    "    return tokens\n",
    "\n",
    "# check if text contains special tokens like urls, emails, etc.\n",
    "def contains_special_token(text):\n",
    "    doc = nlp(text)\n",
    "    for token in doc:\n",
    "        if token.like_url or token.like_email:\n",
    "            return True\n",
    "    return False"
   ]
  },
  {
   "cell_type": "code",
   "execution_count": 15,
   "metadata": {},
   "outputs": [
    {
     "name": "stderr",
     "output_type": "stream",
     "text": [
      "100%|██████████| 289528/289528 [1:12:11<00:00, 66.84it/s] \n"
     ]
    }
   ],
   "source": [
    "train = []\n",
    "\n",
    "for i, row in enumerate(tqdm(train_raw)):\n",
    "    train_dict = {}\n",
    "    train_dict['id'] = 'train-java-ood-{}'.format(row['idx'])\n",
    "    train_dict['code'] = row['code']\n",
    "    train_dict['text'] = row['doc']\n",
    "    train_dict['label'] = row['label']\n",
    "    train_dict['raw'] = row['raw']\n",
    "\n",
    "    if len(tokenize(train_dict['text'])) <= 3 or contains_special_token(train_dict['text']):\n",
    "        continue\n",
    "\n",
    "    try:\n",
    "        lang = detect(train_dict['text'])\n",
    "        if lang != 'en':\n",
    "            continue\n",
    "    except:\n",
    "        continue\n",
    "    \n",
    "    train_dict['code_bpe'] = ' '.join(code_bpe_vocab.tokenize(row['code'].split()))\n",
    "    train_dict['text_bpe'] = ' '.join(text_bpe_vocab.tokenize(row['doc'].split()))\n",
    "    \n",
    "    train.append(train_dict)"
   ]
  },
  {
   "cell_type": "code",
   "execution_count": 16,
   "metadata": {},
   "outputs": [
    {
     "name": "stdout",
     "output_type": "stream",
     "text": [
      "210936\n"
     ]
    }
   ],
   "source": [
    "print(len(train))"
   ]
  },
  {
   "cell_type": "code",
   "execution_count": 17,
   "metadata": {},
   "outputs": [
    {
     "name": "stdout",
     "output_type": "stream",
     "text": [
      "{\n",
      "    \"idx\": 1,\n",
      "    \"doc\": \"Mirrors the one ObservableSource in an Iterable of several ObservableSources that first either emits an item or sends a termination notification . <p > <img width = 640 height = 385 src = https : // raw . github . com / wiki / ReactiveX / RxJava / images / rx - operators / amb . png alt = > <dl > <dt > <b > Scheduler : < / b > < / dt > <dd > { @code amb } does not operate by default on a particular { @link Scheduler } . < / dd > < / dl >\",\n",
      "    \"code\": \"@ CheckReturnValue @ NonNull @ SchedulerSupport ( SchedulerSupport . NONE ) public static < T > Observable < T > amb ( Iterable < ? extends ObservableSource < ? extends T > > sources ) { ObjectHelper . requireNonNull ( sources , \\\"sources is null\\\" ) ; return RxJavaPlugins . onAssembly ( new ObservableAmb < T > ( null , sources ) ) ; }\",\n",
      "    \"raw\": \"@CheckReturnValue\\n    @NonNull\\n    @SchedulerSupport(SchedulerSupport.NONE)\\n    public static <T> Observable<T> amb(Iterable<? extends ObservableSource<? extends T>> sources) {\\n        ObjectHelper.requireNonNull(sources, \\\"sources is null\\\");\\n        return RxJavaPlugins.onAssembly(new ObservableAmb<T>(null, sources));\\n    }\",\n",
      "    \"label\": 1\n",
      "}\n"
     ]
    }
   ],
   "source": [
    "test_raw = json.load(open('valid_ood_codesearchnet.json', 'r'))\n",
    "print(json.dumps(test_raw[0], indent=4))"
   ]
  },
  {
   "cell_type": "code",
   "execution_count": 18,
   "metadata": {},
   "outputs": [],
   "source": [
    "test = []\n",
    "\n",
    "for row in test_raw:\n",
    "    test_dict = {}\n",
    "    test_dict['id'] = 'test-java-ood-{}'.format(row['idx'])\n",
    "    test_dict['code'] = row['code']\n",
    "    test_dict['text'] = row['doc']\n",
    "    test_dict['label'] = row['label']\n",
    "    test_dict['raw'] = row['raw']\n",
    "    test_dict['code_bpe'] = ' '.join(code_bpe_vocab.tokenize(row['code'].split()))\n",
    "    test_dict['text_bpe'] = ' '.join(text_bpe_vocab.tokenize(row['doc'].split()))\n",
    "\n",
    "    if len(tokenize(train_dict['text'])) <= 3 or contains_special_token(train_dict['text']):\n",
    "        continue\n",
    "\n",
    "    try:\n",
    "        lang = detect(train_dict['text'])\n",
    "        if lang != 'en':\n",
    "            continue\n",
    "    except:\n",
    "        continue\n",
    "\n",
    "    test.append(test_dict)"
   ]
  },
  {
   "cell_type": "code",
   "execution_count": 19,
   "metadata": {},
   "outputs": [],
   "source": [
    "np.random.shuffle(train)\n",
    "np.random.shuffle(test)\n",
    "\n",
    "valid_size = int(len(train) * 0.1)\n",
    "valid = train[:valid_size]\n",
    "train = train[valid_size:]"
   ]
  },
  {
   "cell_type": "code",
   "execution_count": 20,
   "metadata": {},
   "outputs": [
    {
     "name": "stdout",
     "output_type": "stream",
     "text": [
      "189843\n",
      "21093\n",
      "15954\n"
     ]
    }
   ],
   "source": [
    "print(len(train))\n",
    "print(len(valid))\n",
    "print(len(test))"
   ]
  },
  {
   "cell_type": "code",
   "execution_count": 21,
   "metadata": {},
   "outputs": [],
   "source": [
    "with open('data_train.json', 'w') as f:\n",
    "    json.dump(train, f, indent=2)\n",
    "\n",
    "with open('data_valid.json', 'w') as f:\n",
    "    json.dump(valid, f, indent=2)\n",
    "\n",
    "with open('data_test.json', 'w') as f:\n",
    "    json.dump(test, f, indent=2)\n"
   ]
  },
  {
   "cell_type": "code",
   "execution_count": 22,
   "metadata": {},
   "outputs": [
    {
     "name": "stdout",
     "output_type": "stream",
     "text": [
      "[\n",
      "    {\n",
      "        \"id\": \"train-java-ood-275589\",\n",
      "        \"code\": \"private void computeSpan ( List < AssociatedPair > points ) { Q . reshape ( points . size ( ) , 9 ) ; int index = 0 ; for ( int i = 0 ; i < points . size ( ) ; i ++ ) { AssociatedPair p = points . get ( i ) ; Point2D_F64 a = p . p2 ; Point2D_F64 b = p . p1 ; // The points are assumed to be in homogeneous coordinates.  This means z = 1 Q . data [ index ++ ] = a . x * b . x ; Q . data [ index ++ ] = a . x * b . y ; Q . data [ index ++ ] = a . x ; Q . data [ index ++ ] = a . y * b . x ; Q . data [ index ++ ] = a . y * b . y ; Q . data [ index ++ ] = a . y ; Q . data [ index ++ ] = b . x ; Q . data [ index ++ ] = b . y ; Q . data [ index ++ ] = 1 ; } if ( ! solverNull . process ( Q , 4 , nullspace ) ) throw new RuntimeException ( \\\"Nullspace solver should never fail, probably bad input\\\" ) ; // extract the span of solutions for E from the null space for ( int i = 0 ; i < 9 ; i ++ ) { X [ i ] = nullspace . unsafe_get ( i , 0 ) ; Y [ i ] = nullspace . unsafe_get ( i , 1 ) ; Z [ i ] = nullspace . unsafe_get ( i , 2 ) ; W [ i ] = nullspace . unsafe_get ( i , 3 ) ; } }\",\n",
      "        \"text\": \"From the epipolar constraint p2^T * E * p1 = 0 construct a linear system and find its null space .\",\n",
      "        \"label\": 1,\n",
      "        \"raw\": \"private void computeSpan( List<AssociatedPair> points ) {\\n\\n\\t\\tQ.reshape(points.size(), 9);\\n\\t\\tint index = 0;\\n\\n\\t\\tfor( int i = 0; i < points.size(); i++ ) {\\n\\t\\t\\tAssociatedPair p = points.get(i);\\n\\n\\t\\t\\tPoint2D_F64 a = p.p2;\\n\\t\\t\\tPoint2D_F64 b = p.p1;\\n\\n\\t\\t\\t// The points are assumed to be in homogeneous coordinates.  This means z = 1\\n\\t\\t\\tQ.data[index++] =  a.x*b.x;\\n\\t\\t\\tQ.data[index++] =  a.x*b.y;\\n\\t\\t\\tQ.data[index++] =  a.x;\\n\\t\\t\\tQ.data[index++] =  a.y*b.x;\\n\\t\\t\\tQ.data[index++] =  a.y*b.y;\\n\\t\\t\\tQ.data[index++] =  a.y;\\n\\t\\t\\tQ.data[index++] =      b.x;\\n\\t\\t\\tQ.data[index++] =      b.y;\\n\\t\\t\\tQ.data[index++] =  1;\\n\\t\\t}\\n\\n\\t\\tif( !solverNull.process(Q,4,nullspace) )\\n\\t\\t\\tthrow new RuntimeException(\\\"Nullspace solver should never fail, probably bad input\\\");\\n\\n\\t\\t// extract the span of solutions for E from the null space\\n\\t\\tfor( int i = 0; i < 9; i++ ) {\\n\\t\\t\\tX[i] = nullspace.unsafe_get(i,0);\\n\\t\\t\\tY[i] = nullspace.unsafe_get(i,1);\\n\\t\\t\\tZ[i] = nullspace.unsafe_get(i,2);\\n\\t\\t\\tW[i] = nullspace.unsafe_get(i,3);\\n\\t\\t}\\n\\t}\",\n",
      "        \"code_bpe\": \"private void <sow> comp ute Spa n <eow> ( List < <sow> Ass oc iat edP ai r <eow> > points ) { Q . reshape ( points . size ( ) , 9 ) ; int index = 0 ; for ( int i = 0 ; i < points . size ( ) ; i ++ ) { <sow> Ass oc iat edP ai r <eow> p = points . get ( i ) ; Point2D_F64 a = p . p2 ; Point2D_F64 b = p . p1 ; // The points are <sow> ass ume d <eow> to be in <sow> ho mo gene ous <eow> <sow> co ord inat es. <eow> This means z = 1 Q . data [ index ++ ] = a . x * b . x ; Q . data [ index ++ ] = a . x * b . y ; Q . data [ index ++ ] = a . x ; Q . data [ index ++ ] = a . y * b . x ; Q . data [ index ++ ] = a . y * b . y ; Q . data [ index ++ ] = a . y ; Q . data [ index ++ ] = b . x ; Q . data [ index ++ ] = b . y ; Q . data [ index ++ ] = 1 ; } if ( ! <sow> solve rN ull <eow> . process ( Q , 4 , <sow> nu ll space <eow> ) ) throw new RuntimeException ( <sow> \\\" Null space <eow> <sow> solve r <eow> should never <sow> fa il , <eow> probably bad <sow> input \\\" <eow> ) ; // extract the span of <sow> sol ution s <eow> for E from the null space for ( int i = 0 ; i < 9 ; i ++ ) { X [ i ] = <sow> nu ll space <eow> . <sow> un sa fe _ get <eow> ( i , 0 ) ; Y [ i ] = <sow> nu ll space <eow> . <sow> un sa fe _ get <eow> ( i , 1 ) ; Z [ i ] = <sow> nu ll space <eow> . <sow> un sa fe _ get <eow> ( i , 2 ) ; W [ i ] = <sow> nu ll space <eow> . <sow> un sa fe _ get <eow> ( i , 3 ) ; } }\",\n",
      "        \"text_bpe\": \"From the <sow> ep ip ola r <eow> constraint <sow> p 2 <unk> T <eow> <sow> <unk> <eow> E <sow> <unk> <eow> <sow> p 1 <eow> = 0 construct a linear system and find its null space .\"\n",
      "    },\n",
      "    {\n",
      "        \"id\": \"train-java-ood-54547\",\n",
      "        \"code\": \"@ PUT @ Produces ( MediaType . APPLICATION_JSON ) @ Consumes ( MediaType . APPLICATION_FORM_URLENCODED ) @ Path ( \\\"/{userId}/privileged\\\" ) @ Description ( \\\"Grants or revokes privileged permissions\\\" ) public PrincipalUserDto updateUserPrivilege ( @ Context HttpServletRequest req , @ PathParam ( \\\"userId\\\" ) final BigInteger userId , @ FormParam ( \\\"privileged\\\" ) final boolean privileged ) { validatePrivilegedUser ( req ) ; if ( userId == null || userId . compareTo ( BigInteger . ZERO ) < 1 ) { throw new WebApplicationException ( \\\"User Id cannot be null and must be a positive non-zero number.\\\" , Status . BAD_REQUEST ) ; } PrincipalUser user = _uService . findUserByPrimaryKey ( userId ) ; if ( user == null ) { throw new WebApplicationException ( Response . Status . NOT_FOUND . getReasonPhrase ( ) , Response . Status . NOT_FOUND ) ; } try { Method method = PrincipalUser . class . getDeclaredMethod ( \\\"setPrivileged\\\" , boolean . class ) ; method . setAccessible ( true ) ; method . invoke ( user , privileged ) ; } catch ( NoSuchMethodException | SecurityException | IllegalAccessException | IllegalArgumentException | InvocationTargetException e ) { throw new SystemException ( \\\"Failed to change privileged status.\\\" , e ) ; } user = _uService . updateUser ( user ) ; return PrincipalUserDto . transformToDto ( user ) ; }\",\n",
      "        \"text\": \"Grants or revokes privileged permissions .\",\n",
      "        \"label\": 1,\n",
      "        \"raw\": \"@PUT\\n    @Produces(MediaType.APPLICATION_JSON)\\n    @Consumes(MediaType.APPLICATION_FORM_URLENCODED)\\n    @Path(\\\"/{userId}/privileged\\\")\\n    @Description(\\\"Grants or revokes privileged permissions\\\")\\n    public PrincipalUserDto updateUserPrivilege(@Context HttpServletRequest req,\\n        @PathParam(\\\"userId\\\") final BigInteger userId,\\n        @FormParam(\\\"privileged\\\") final boolean privileged) {\\n        validatePrivilegedUser(req);\\n        if (userId == null || userId.compareTo(BigInteger.ZERO) < 1) {\\n            throw new WebApplicationException(\\\"User Id cannot be null and must be a positive non-zero number.\\\", Status.BAD_REQUEST);\\n        }\\n\\n        PrincipalUser user = _uService.findUserByPrimaryKey(userId);\\n\\n        if (user == null) {\\n            throw new WebApplicationException(Response.Status.NOT_FOUND.getReasonPhrase(), Response.Status.NOT_FOUND);\\n        }\\n        try {\\n            Method method = PrincipalUser.class.getDeclaredMethod(\\\"setPrivileged\\\", boolean.class);\\n\\n            method.setAccessible(true);\\n            method.invoke(user, privileged);\\n        } catch (NoSuchMethodException | SecurityException | IllegalAccessException | IllegalArgumentException | InvocationTargetException e) {\\n            throw new SystemException(\\\"Failed to change privileged status.\\\", e);\\n        }\\n        user = _uService.updateUser(user);\\n        return PrincipalUserDto.transformToDto(user);\\n    }\",\n",
      "        \"code_bpe\": \"@ PUT @ Produces ( MediaType . APPLICATION_JSON ) @ <sow> Cons ume s <eow> ( MediaType . <sow> AP PL IC ATION _F OR M _U RL EN CO DE D <eow> ) @ Path ( <sow> \\\"/ { user Id } / pri vi leg ed\\\" <eow> ) @ Description ( <sow> \\\" Gra nts <eow> or <sow> rev oke s <eow> <sow> pri vi leg ed <eow> <sow> per mission s\\\" <eow> ) public <sow> Pri nc ip al User D to <eow> <sow> update User Pri vi leg e <eow> ( @ Context HttpServletRequest req , @ PathParam ( <sow> \\\" user Id \\\" <eow> ) final BigInteger userId , @ <sow> Form Param <eow> ( <sow> \\\"p riv ile ged \\\" <eow> ) final boolean <sow> pri vi leg ed <eow> ) { <sow> validat ePr ivi leg ed User <eow> ( req ) ; if ( userId == null || userId . compareTo ( BigInteger . ZERO ) < 1 ) { throw new WebApplicationException ( <sow> \\\" User <eow> Id cannot be null and must be a positive <sow> non - zer o <eow> <sow> num ber .\\\" <eow> , Status . BAD_REQUEST ) ; } <sow> Pri nc ip al User <eow> user = <sow> _ u Service <eow> . <sow> find User By Pri mar y Key <eow> ( userId ) ; if ( user == null ) { throw new WebApplicationException ( Response . Status . NOT_FOUND . <sow> getRe as onP hr ase <eow> ( ) , Response . Status . NOT_FOUND ) ; } try { Method method = <sow> Pri nc ip al User <eow> . class . getDeclaredMethod ( <sow> \\\"s etPr ivi leg ed\\\" <eow> , boolean . class ) ; method . setAccessible ( true ) ; method . invoke ( user , <sow> pri vi leg ed <eow> ) ; } catch ( NoSuchMethodException | SecurityException | IllegalAccessException | IllegalArgumentException | InvocationTargetException e ) { throw new SystemException ( \\\"Failed to change <sow> pri vi leg ed <eow> <sow> stat us .\\\" <eow> , e ) ; } user = <sow> _ u Service <eow> . <sow> update User <eow> ( user ) ; return <sow> Pri nc ip al User D to <eow> . <sow> trans form To D to <eow> ( user ) ; }\",\n",
      "        \"text_bpe\": \"<sow> Gra nts <eow> or <sow> rev oke s <eow> <sow> pri vi leg ed <eow> permissions .\"\n",
      "    }\n",
      "]\n"
     ]
    }
   ],
   "source": [
    "print(json.dumps(valid[:2], indent=4))"
   ]
  }
 ],
 "metadata": {
  "kernelspec": {
   "display_name": "Python 3.9.12 ('torch-env')",
   "language": "python",
   "name": "python3"
  },
  "language_info": {
   "codemirror_mode": {
    "name": "ipython",
    "version": 3
   },
   "file_extension": ".py",
   "mimetype": "text/x-python",
   "name": "python",
   "nbconvert_exporter": "python",
   "pygments_lexer": "ipython3",
   "version": "3.9.13"
  },
  "orig_nbformat": 4,
  "vscode": {
   "interpreter": {
    "hash": "f6b883c92240247a61f0a90bd9fcab4b7e88d74efaf3f0a2714ac8f9d9a63ad2"
   }
  }
 },
 "nbformat": 4,
 "nbformat_minor": 2
}
