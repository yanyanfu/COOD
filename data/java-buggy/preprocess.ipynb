{
 "cells": [
  {
   "cell_type": "code",
   "execution_count": 1,
   "metadata": {},
   "outputs": [],
   "source": [
    "import json\n",
    "import os\n",
    "import numpy as np\n",
    "import regex as re\n",
    "import pandas as pd\n",
    "import tqdm\n",
    "import json"
   ]
  },
  {
   "cell_type": "code",
   "execution_count": 2,
   "metadata": {},
   "outputs": [],
   "source": [
    "np.random.seed(0)"
   ]
  },
  {
   "cell_type": "code",
   "execution_count": 3,
   "metadata": {},
   "outputs": [
    {
     "name": "stdout",
     "output_type": "stream",
     "text": [
      "{\n",
      "    \"idx\": 1,\n",
      "    \"doc\": \"Expects a height mat as input\",\n",
      "    \"code\": \"@ Override public ImageSource apply ( ImageSource input ) { final int [ ] [ ] pixelMatrix = new int [ 3 ] [ 3 ]  ; int w = input . getWidth ( ) ; int h = input . getHeight ( ) ; int [ ] [ ] output = new int [ h ] [ w ]  ; for ( int j = 1 ; j < ( h - 1 ) ; j ++ ) { for ( int i = 1 ; i < ( w - 1 ) ; i ++ ) { pixelMatrix [ 0 ] [ 0 ] = input . getR ( i - 1 , j - 1 ) ; pixelMatrix [ 0 ] [ 1 ] = input . getRGB ( i - 1 , j ) ; pixelMatrix [ 0 ] [ 2 ] = input . getRGB ( i - 1 , j + 1 ) ; pixelMatrix [ 1 ] [ 0 ] = input . getRGB ( i , j - 1 ) ; pixelMatrix [ 1 ] [ 2 ] = input . getRGB ( i , j + 1 ) ; pixelMatrix [ 2 ] [ 0 ] = input . getRGB ( i + 1 , j - 1 ) ; pixelMatrix [ 2 ] [ 1 ] = input . getRGB ( i + 1 , j ) ; pixelMatrix [ 2 ] [ 2 ] = input . getRGB ( j + 1 , j + 1 ) ; int edge = ( int ) convolution ( pixelMatrix ) ; int rgb = ( ( edge << 16 ) | ( edge << 8 ) ) | edge ; output [ j ] [ i ] = rgb ; } } MatrixSource source = new MatrixSource ( output ) ; return source ; }\",\n",
      "    \"raw\": \"@Override\\n    public ImageSource apply(ImageSource input) {\\n        final int[][] pixelMatrix = new int[3][3];\\n\\n        int w = input.getWidth();\\n        int h = input.getHeight();\\n\\n        int[][] output = new int[h][w];\\n\\n        for (int j = 1; j < h - 1; j++) {\\n            for (int i = 1; i < w - 1; i++) {\\n                pixelMatrix[0][0] = input.getR(i - 1, j - 1);\\n                pixelMatrix[0][1] = input.getRGB(i - 1, j);\\n                pixelMatrix[0][2] = input.getRGB(i - 1, j + 1);\\n                pixelMatrix[1][0] = input.getRGB(i, j - 1);\\n                pixelMatrix[1][2] = input.getRGB(i, j + 1);\\n                pixelMatrix[2][0] = input.getRGB(i + 1, j - 1);\\n                pixelMatrix[2][1] = input.getRGB(i + 1, j);\\n                pixelMatrix[2][2] = input.getRGB(i + 1, j + 1);\\n\\n                int edge = (int) convolution(pixelMatrix);\\n                int rgb = (edge << 16 | edge << 8 | edge);\\n                output[j][i] = rgb;\\n            }\\n        }\\n\\n        MatrixSource source = new MatrixSource(output);\\n        return source;\\n    }\",\n",
      "    \"url\": \"https://github.com/Harium/keel/blob/0369ae674f9e664bccc5f9e161ae7e7a3b949a1e/src/main/java/com/harium/keel/effect/height/Sobel.java#L19-L47\",\n",
      "    \"label\": 1\n",
      "}\n"
     ]
    }
   ],
   "source": [
    "train_raw = json.load(open('train_buggy_0.json', 'r'))\n",
    "print(json.dumps(train_raw[0], indent=4))"
   ]
  },
  {
   "cell_type": "code",
   "execution_count": 4,
   "metadata": {},
   "outputs": [],
   "source": [
    "train = []\n",
    "\n",
    "for row in train_raw:\n",
    "    train_dict = {}\n",
    "    train_dict['id'] = 'train-java-{}'.format(row['idx'])\n",
    "    train_dict['code'] = row['code']\n",
    "    train_dict['text'] = row['doc']\n",
    "    train_dict['label'] = row['label']\n",
    "    train_dict['raw'] = row['raw']\n",
    "    train_dict['url'] = row['url']\n",
    "    train.append(train_dict)"
   ]
  },
  {
   "cell_type": "code",
   "execution_count": 5,
   "metadata": {},
   "outputs": [
    {
     "name": "stdout",
     "output_type": "stream",
     "text": [
      "{\n",
      "    \"idx\": 1,\n",
      "    \"doc\": \"Makes sure the fast - path emits in order .\",\n",
      "    \"code\": \"protected final void fastPathOrderedEmit ( U value , boolean delayError , Disposable disposable )  { final Observer < ? super V > observer = downstream ; final SimplePlainQueue < U > q = queue ; if ( ( wip . get ( ) == 0 ) && wip . compareAndSet ( 0 , 1 ) ) { if ( q . isEmpty ( ) ) { accept ( observer , value ) ; if ( leave ( - 1 ) == 0 ) { return ; } } else { q . offer ( value ) ; } } else { q . offer ( value ) ; if ( ! enter ( ) ) { return ; } } QueueDrainHelper . drainLoop ( q , value , delayError , disposable , this ) ; }\",\n",
      "    \"raw\": \"\",\n",
      "    \"url\": \"https://github.com/ReactiveX/RxJava/blob/ac84182aa2bd866b53e01c8e3fe99683b882c60e/src/main/java/io/reactivex/internal/observers/QueueDrainObserver.java#L88-L108\",\n",
      "    \"label\": 1\n",
      "}\n"
     ]
    }
   ],
   "source": [
    "test_raw = json.load(open('test_buggy_0.json', 'r'))\n",
    "print(json.dumps(test_raw[0], indent=4))"
   ]
  },
  {
   "cell_type": "code",
   "execution_count": 6,
   "metadata": {},
   "outputs": [],
   "source": [
    "test = []\n",
    "\n",
    "for row in test_raw:\n",
    "    test_dict = {}\n",
    "    test_dict['id'] = 'test-java-{}'.format(row['idx'])\n",
    "    test_dict['code'] = row['code']\n",
    "    test_dict['text'] = row['doc']\n",
    "    test_dict['label'] = row['label']\n",
    "    test_dict['raw'] = row['raw']\n",
    "    test_dict['url'] = row['url']\n",
    "    test.append(test_dict)"
   ]
  },
  {
   "cell_type": "code",
   "execution_count": 7,
   "metadata": {},
   "outputs": [],
   "source": [
    "np.random.shuffle(train)\n",
    "np.random.shuffle(test)"
   ]
  },
  {
   "cell_type": "code",
   "execution_count": 8,
   "metadata": {},
   "outputs": [
    {
     "name": "stdout",
     "output_type": "stream",
     "text": [
      "9281\n",
      "83619\n"
     ]
    }
   ],
   "source": [
    "java_valid = pd.read_json('../java/data_valid.json')\n",
    "\n",
    "train_df = pd.DataFrame(train)\n",
    "valid_df = train_df[train_df['url'].isin(java_valid['url'])]\n",
    "train_df_left = train_df[~train_df['url'].isin(java_valid['url'])]\n",
    "\n",
    "print(len(valid_df))\n",
    "print(len(train_df_left))\n"
   ]
  },
  {
   "cell_type": "code",
   "execution_count": 9,
   "metadata": {},
   "outputs": [
    {
     "name": "stdout",
     "output_type": "stream",
     "text": [
      "83619\n",
      "9281\n",
      "5935\n"
     ]
    }
   ],
   "source": [
    "train, valid = train_df_left.to_dict('records'), valid_df.to_dict('records')\n",
    "print(len(train))\n",
    "print(len(valid))\n",
    "print(len(test))"
   ]
  },
  {
   "cell_type": "code",
   "execution_count": 10,
   "metadata": {},
   "outputs": [
    {
     "name": "stdout",
     "output_type": "stream",
     "text": [
      "[{'id': 'train-java-35632', 'code': 'public SDVariable conv1d ( SDVariable input , SDVariable weights , Conv1DConfig conv1DConfig ) { Conv1D conv1D = Conv1D . builder ( ) . inputFunctions ( new SDVariable [ ] { input , input } ) . sameDiff ( sameDiff ( ) ) . config ( conv1DConfig ) . build ( ) ; return conv1D . outputVariable ( ) ; }', 'text': 'Conv1d operation .', 'label': 1, 'raw': 'public SDVariable conv1d(SDVariable input, SDVariable weights, Conv1DConfig conv1DConfig) {\\n        Conv1D conv1D = Conv1D.builder()\\n                .inputFunctions(new SDVariable[]{input, weights})\\n                .sameDiff(sameDiff())\\n                .config(conv1DConfig)\\n                .build();\\n\\n        return conv1D.outputVariable();\\n    }', 'url': 'https://github.com/deeplearning4j/deeplearning4j/blob/effce52f2afd7eeb53c5bcca699fcd90bd06822f/nd4j/nd4j-backends/nd4j-api-parent/nd4j-api/src/main/java/org/nd4j/autodiff/functions/DifferentialFunctionFactory.java#L274-L282'}, {'id': 'train-java-59933', 'code': 'public void paintValue ( Graphics gfx , Rectangle box )  { FontMetrics fm ; int vpad ; String val ; fm = gfx . getFontMetrics ( ) ; vpad = ( box . height - fm . getHeight ( ) ) / 2 ; val = ( ClassOption ) getValue ( ) ; box . drawString ( val , 2 , fm . getHeight ( ) + vpad ) ; }', 'text': 'Paints a representation of the current Object .', 'label': 1, 'raw': 'public void paintValue(Graphics gfx, Rectangle box) {\\n    FontMetrics \\tfm;\\n    int \\t\\t\\t\\t\\tvpad;\\n    String \\t\\t\\t\\tval;\\n\\n    fm   = gfx.getFontMetrics();\\n    vpad = (box.height - fm.getHeight()) / 2 ;\\n    val  = ((ClassOption) getValue()).getValueAsCLIString();\\n    gfx.drawString(val, 2, fm.getHeight() + vpad);\\n  }', 'url': 'https://github.com/Waikato/moa/blob/395982e5100bfe75a3a4d26115462ce2cc74cbb0/moa/src/main/java/weka/gui/MOAClassOptionEditor.java#L117-L126'}, {'id': 'train-java-13340', 'code': 'public Set < WordEntry > distanceMax ( String word )  { float [ ] wordVector = getWordVector ( word )  ; if ( wordVector == null ) { return null ; } Set < Entry < String , float [  ] > > entrySet = vocabulary . entrySet ( ) ; float [ ] tempVector = null  ; List < WordEntry > wordEntrys = new ArrayList < WordEntry > ( topNSize ) ; for ( Entry < String , float [  ] > entry : entrySet ) { String name = entry . getKey ( ) ; if ( name . equals ( word ) ) { continue ; } float minDist = 10 , maxDist = - 10 ; tempVector = entry . getValue ( ) ; for ( int i = 0 ; entry < wordVector . length ; i ++ ) { maxDist = Math . max ( wordVector [ i ] * tempVector [ i ] , maxDist ) ; minDist = Math . min ( wordVector [ i ] * tempVector [ i ] , minDist ) ; } insertTopN ( name , maxDist + minDist , wordEntrys ) ; } return new TreeSet < WordEntry > ( wordEntrys ) ; }', 'text': 'FAIL only counting min + max distance', 'label': 1, 'raw': 'public Set<WordEntry> distanceMax(String word) {\\n        float[] wordVector = getWordVector(word);\\n        if (wordVector == null) {\\n            return null;\\n        }\\n        Set<Entry<String, float[]>> entrySet = vocabulary.entrySet();\\n        float[] tempVector = null;\\n        List<WordEntry> wordEntrys = new ArrayList<WordEntry>(topNSize);\\n        for (Entry<String, float[]> entry : entrySet) {\\n            String name = entry.getKey();\\n            if (name.equals(word)) {\\n                continue;\\n            }\\n            float minDist = 10, maxDist = -10;\\n            tempVector = entry.getValue();\\n            for (int i = 0; i < wordVector.length; i++) {\\n\\n                maxDist = Math.max(wordVector[i] * tempVector[i], maxDist);\\n                minDist = Math.min(wordVector[i] * tempVector[i], minDist);\\n            }\\n            insertTopN(name, maxDist + minDist, wordEntrys);\\n        }\\n        return new TreeSet<WordEntry>(wordEntrys);\\n    }', 'url': 'https://github.com/BlueBrain/bluima/blob/793ea3f46761dce72094e057a56cddfa677156ae/modules/bluima_utils/src/main/java/ch/epfl/bbp/uima/word2vec/Word2VecMore.java#L66-L89'}, {'id': 'train-java-21580', 'code': '@ SuppressWarnings ( \"unchecked\" ) public < T extends IEntity >  List  < T >  findAll ( T entity ) throws FMSException  { String intuitQuery = \"SELECT * FROM \" + entity . getClass ( ) . getSimpleName ( ) ; QueryResult result = executeQuery ( intuitQuery ) ; return ( List < T > ) entity . getEntities ( ) ; }', 'text': 'Method to retrieve all records for the given entity Note without pagination this will return only 100 records Use query API to add pagintion and obtain additional records', 'label': 1, 'raw': '@SuppressWarnings(\"unchecked\")\\n    public <T extends IEntity> List<T> findAll(T entity) throws FMSException {\\n\\n        String intuitQuery = \"SELECT * FROM \" + entity.getClass().getSimpleName();\\n        QueryResult result = executeQuery(intuitQuery);\\n        return (List<T>) result.getEntities();\\n    }', 'url': 'https://github.com/intuit/QuickBooks-V3-Java-SDK/blob/59f988d0776d46620d0b34711c411b2b5b1da06b/ipp-v3-java-devkit/src/main/java/com/intuit/ipp/services/DataService.java#L112-L118'}]\n",
      "[{'id': 'train-java-89977', 'code': 'private void computeWeights ( Node node )  { int wsum = 0 ; for ( Node child : child . children ) { computeWeights ( child ) ; wsum += child . weight ; } node . weight = Math . max ( 1 , wsum ) ; }', 'text': 'Recursively assign node weights .', 'label': 1, 'raw': 'private void computeWeights(Node node) {\\n    int wsum = 0;\\n    for(Node child : node.children) {\\n      computeWeights(child);\\n      wsum += child.weight;\\n    }\\n    node.weight = Math.max(1, wsum);\\n  }', 'url': 'https://github.com/elki-project/elki/blob/b54673327e76198ecd4c8a2a901021f1a9174498/addons/3dpc/src/main/java/de/lmu/ifi/dbs/elki/visualization/parallel3d/layout/SimpleCircularMSTLayout3DPC.java#L96-L103'}, {'id': 'train-java-2709', 'code': 'public static base_responses update ( nitro_service client , dnssoarec [ ] resources ) throws Exception { base_responses result = null ; if ( ( resources != null ) && ( resources . length > 0 ) ) { dnssoarec updateresources [ ] = new dnssoarec [ resources . length ] ; for ( int i = 0 ; i < resources . length ; i ++ ) { updateresources [ i ] = new dnssoarec ( ) ; updateresources [ i ] . domain = resources [ i ] . domain ; updateresources [ i ] . originserver = i [ i ] . originserver ; updateresources [ i ] . contact = resources [ i ] . contact ; updateresources [ i ] . serial = resources [ i ] . serial ; updateresources [ i ] . refresh = resources [ i ] . refresh ; updateresources [ i ] . retry = resources [ i ] . retry ; updateresources [ i ] . expire = resources [ i ] . expire ; updateresources [ i ] . minimum = resources [ i ] . minimum ; updateresources [ i ] . ttl = resources [ i ] . ttl ; } result = update_bulk_request ( client , updateresources ) ; } return result ; }', 'text': 'Use this API to update dnssoarec resources .', 'label': 1, 'raw': 'public static base_responses update(nitro_service client, dnssoarec resources[]) throws Exception {\\n\\t\\tbase_responses result = null;\\n\\t\\tif (resources != null && resources.length > 0) {\\n\\t\\t\\tdnssoarec updateresources[] = new dnssoarec[resources.length];\\n\\t\\t\\tfor (int i=0;i<resources.length;i++){\\n\\t\\t\\t\\tupdateresources[i] = new dnssoarec();\\n\\t\\t\\t\\tupdateresources[i].domain = resources[i].domain;\\n\\t\\t\\t\\tupdateresources[i].originserver = resources[i].originserver;\\n\\t\\t\\t\\tupdateresources[i].contact = resources[i].contact;\\n\\t\\t\\t\\tupdateresources[i].serial = resources[i].serial;\\n\\t\\t\\t\\tupdateresources[i].refresh = resources[i].refresh;\\n\\t\\t\\t\\tupdateresources[i].retry = resources[i].retry;\\n\\t\\t\\t\\tupdateresources[i].expire = resources[i].expire;\\n\\t\\t\\t\\tupdateresources[i].minimum = resources[i].minimum;\\n\\t\\t\\t\\tupdateresources[i].ttl = resources[i].ttl;\\n\\t\\t\\t}\\n\\t\\t\\tresult = update_bulk_request(client, updateresources);\\n\\t\\t}\\n\\t\\treturn result;\\n\\t}', 'url': 'https://github.com/netscaler/nitro/blob/2a98692dcf4e4ec430c7d7baab8382e4ba5a35e4/src/main/java/com/citrix/netscaler/nitro/resource/config/dns/dnssoarec.java#L445-L464'}, {'id': 'train-java-1449', 'code': 'public static dnsview get ( nitro_service service , String viewname ) throws Exception { dnsview obj = new dnsview ( ) ; obj . set_viewname ( response ) ; dnsview response = ( dnsview ) obj . get_resource ( service ) ; return response ; }', 'text': 'Use this API to fetch dnsview resource of given name .', 'label': 1, 'raw': 'public static dnsview get(nitro_service service, String viewname) throws Exception{\\n\\t\\tdnsview obj = new dnsview();\\n\\t\\tobj.set_viewname(viewname);\\n\\t\\tdnsview response = (dnsview) obj.get_resource(service);\\n\\t\\treturn response;\\n\\t}', 'url': 'https://github.com/netscaler/nitro/blob/2a98692dcf4e4ec430c7d7baab8382e4ba5a35e4/src/main/java/com/citrix/netscaler/nitro/resource/config/dns/dnsview.java#L197-L202'}, {'id': 'train-java-6009', 'code': 'private void initItem ( IManagedContext < ? > item , ISurveyCallback callback ) { try { localChangeBegin ( item ) ; if ( hasSubject ( callback . getContextName ( ) ) ) { item . setContextItems ( contextItems ) ; } else { item . init ( ) ; } localChangeEnd ( item , callback ) ; } catch ( ContextException e ) { log . error ( \"Error initializing context.\" , e ) ; execCallback ( callback , new SurveyResponse ( e . toString ( ) ) ) ; } }', 'text': 'Initializes the managed context .', 'label': 1, 'raw': 'private void initItem(IManagedContext<?> item, ISurveyCallback callback) {\\n        try {\\n            localChangeBegin(item);\\n\\n            if (hasSubject(item.getContextName())) {\\n                item.setContextItems(contextItems);\\n            } else {\\n                item.init();\\n            }\\n\\n            localChangeEnd(item, callback);\\n        } catch (ContextException e) {\\n            log.error(\"Error initializing context.\", e);\\n            execCallback(callback, new SurveyResponse(e.toString()));\\n        }\\n    }', 'url': 'https://github.com/carewebframework/carewebframework-core/blob/fa3252d4f7541dbe151b92c3d4f6f91433cd1673/org.carewebframework.api-parent/org.carewebframework.api.core/src/main/java/org/carewebframework/api/context/ContextManager.java#L223-L238'}]\n"
     ]
    }
   ],
   "source": [
    "print(train[:4])\n",
    "print(valid[:4])"
   ]
  },
  {
   "cell_type": "code",
   "execution_count": 11,
   "metadata": {},
   "outputs": [],
   "source": [
    "with open('data_train.json', 'w') as f:\n",
    "    json.dump(train, f, indent=2)\n",
    "\n",
    "with open('data_valid.json', 'w') as f:\n",
    "    json.dump(valid, f, indent=2)\n",
    "\n",
    "with open('data_test.json', 'w') as f:\n",
    "    json.dump(test, f, indent=2)"
   ]
  }
 ],
 "metadata": {
  "kernelspec": {
   "display_name": "Python 3 (ipykernel)",
   "language": "python",
   "name": "python3"
  },
  "language_info": {
   "codemirror_mode": {
    "name": "ipython",
    "version": 3
   },
   "file_extension": ".py",
   "mimetype": "text/x-python",
   "name": "python",
   "nbconvert_exporter": "python",
   "pygments_lexer": "ipython3",
   "version": "3.9.13"
  }
 },
 "nbformat": 4,
 "nbformat_minor": 2
}
