{
 "cells": [
  {
   "cell_type": "code",
   "execution_count": 1,
   "metadata": {},
   "outputs": [],
   "source": [
    "import json\n",
    "import os\n",
    "import numpy as np\n",
    "import regex as re\n",
    "import pandas as pd"
   ]
  },
  {
   "cell_type": "code",
   "execution_count": 2,
   "metadata": {},
   "outputs": [],
   "source": [
    "np.random.seed(0)"
   ]
  },
  {
   "cell_type": "code",
   "execution_count": 3,
   "metadata": {},
   "outputs": [
    {
     "name": "stdout",
     "output_type": "stream",
     "text": [
      "{\n",
      "    \"idx\": 1,\n",
      "    \"doc\": \"Return either the full or truncated version of a QIIME - formatted taxonomy string .\",\n",
      "    \"code\": \"def split_phylogeny ( p , level = \\\"s\\\" ) : level = level + \\\"__\\\" result = p . split ( level ) return result [ 0 ] + level + result [ 1 ] . split ( \\\";\\\" ) [ 0 ]\",\n",
      "    \"raw\": \"def split_phylogeny(p, level=\\\"s\\\"):\\n    \\\"\\\"\\\"\\n    Return either the full or truncated version of a QIIME-formatted taxonomy string.\\n\\n    :type p: str\\n    :param p: A QIIME-formatted taxonomy string: k__Foo; p__Bar; ...\\n\\n    :type level: str\\n    :param level: The different level of identification are kingdom (k), phylum (p),\\n                  class (c),order (o), family (f), genus (g) and species (s). If level is\\n                  not provided, the default level of identification is species.\\n\\n    :rtype: str\\n    :return: A QIIME-formatted taxonomy string up to the classification given\\n            by param level.\\n    \\\"\\\"\\\"\\n    level = level+\\\"__\\\"\\n    result = p.split(level)\\n    return result[0]+level+result[1].split(\\\";\\\")[0]\",\n",
      "    \"url\": \"https://github.com/smdabdoub/phylotoast/blob/0b74ef171e6a84761710548501dfac71285a58a3/phylotoast/util.py#L159-L177\",\n",
      "    \"label\": 1\n",
      "}\n"
     ]
    }
   ],
   "source": [
    "train_raw = json.load(open('train_codesearchnet_0.json', 'r'))\n",
    "print(json.dumps(train_raw[0], indent=4))"
   ]
  },
  {
   "cell_type": "code",
   "execution_count": 4,
   "metadata": {},
   "outputs": [],
   "source": [
    "train = []\n",
    "\n",
    "for row in train_raw:\n",
    "    train_dict = {}\n",
    "    train_dict['id'] = 'train-python-{}'.format(row['idx'])\n",
    "    train_dict['code'] = row['code']\n",
    "    train_dict['text'] = row['doc']\n",
    "    train_dict['label'] = row['label']\n",
    "    train_dict['raw'] = row['raw']\n",
    "    train_dict['url'] = row['url']\n",
    "    train.append(train_dict)"
   ]
  },
  {
   "cell_type": "code",
   "execution_count": 5,
   "metadata": {},
   "outputs": [
    {
     "name": "stdout",
     "output_type": "stream",
     "text": [
      "{\n",
      "    \"idx\": 1,\n",
      "    \"doc\": \"str - > list Convert XML to URL List . From Biligrab .\",\n",
      "    \"code\": \"def sina_xml_to_url_list ( xml_data ) : rawurl = [ ] dom = parseString ( xml_data ) for node in dom . getElementsByTagName ( 'durl' ) : url = node . getElementsByTagName ( 'url' ) [ 0 ] rawurl . append ( url . childNodes [ 0 ] . data ) return rawurl\",\n",
      "    \"raw\": \"def sina_xml_to_url_list(xml_data):\\n    \\\"\\\"\\\"str->list\\n    Convert XML to URL List.\\n    From Biligrab.\\n    \\\"\\\"\\\"\\n    rawurl = []\\n    dom = parseString(xml_data)\\n    for node in dom.getElementsByTagName('durl'):\\n        url = node.getElementsByTagName('url')[0]\\n        rawurl.append(url.childNodes[0].data)\\n    return rawurl\",\n",
      "    \"url\": \"https://github.com/soimort/you-get/blob/b746ac01c9f39de94cac2d56f665285b0523b974/src/you_get/extractors/miomio.py#L41-L51\",\n",
      "    \"label\": 1\n",
      "}\n"
     ]
    }
   ],
   "source": [
    "test_raw = json.load(open('dev_codesearchnet.json', 'r'))\n",
    "print(json.dumps(test_raw[0], indent=4))"
   ]
  },
  {
   "cell_type": "code",
   "execution_count": 6,
   "metadata": {},
   "outputs": [],
   "source": [
    "test = []\n",
    "\n",
    "for row in test_raw:\n",
    "    test_dict = {}\n",
    "    test_dict['id'] = 'test-python-{}'.format(row['idx'])\n",
    "    test_dict['code'] = row['code']\n",
    "    test_dict['text'] = row['doc']\n",
    "    test_dict['label'] = row['label']\n",
    "    test_dict['raw'] = row['raw']\n",
    "    test_dict['url'] = row['url']\n",
    "    test.append(test_dict)"
   ]
  },
  {
   "cell_type": "code",
   "execution_count": 7,
   "metadata": {},
   "outputs": [],
   "source": [
    "np.random.shuffle(train)\n",
    "np.random.shuffle(test)\n",
    "\n",
    "valid_size = int(len(train) * 0.1)\n",
    "valid = train[:valid_size]\n",
    "train = train[valid_size:]"
   ]
  },
  {
   "cell_type": "code",
   "execution_count": 8,
   "metadata": {},
   "outputs": [
    {
     "name": "stdout",
     "output_type": "stream",
     "text": [
      "226638\n",
      "25182\n",
      "14918\n"
     ]
    }
   ],
   "source": [
    "print(len(train))\n",
    "print(len(valid))\n",
    "print(len(test))"
   ]
  },
  {
   "cell_type": "code",
   "execution_count": 9,
   "metadata": {},
   "outputs": [],
   "source": [
    "with open('data_train.json', 'w') as f:\n",
    "    json.dump(train, f, indent=2)\n",
    "\n",
    "with open('data_valid.json', 'w') as f:\n",
    "    json.dump(valid, f, indent=2)\n",
    "\n",
    "with open('data_test.json', 'w') as f:\n",
    "    json.dump(test, f, indent=2)\n"
   ]
  },
  {
   "cell_type": "code",
   "execution_count": 10,
   "metadata": {},
   "outputs": [
    {
     "name": "stdout",
     "output_type": "stream",
     "text": [
      "{\n",
      "    \"idx\": 1,\n",
      "    \"doc\": \"r This function handles the retrieval of a chemical s refractive index . Lookup is based on CASRNs . Will automatically select a data source to use if no Method is provided ; returns None if the data is not available .\",\n",
      "    \"code\": \"def refractive_index ( CASRN , T = None , AvailableMethods = False , Method = None , full_info = True ) : def list_methods ( ) : methods = [ ] if CASRN in CRC_RI_organic . index : methods . append ( CRC ) methods . append ( NONE ) return methods if AvailableMethods : return list_methods ( ) if not Method : Method = list_methods ( ) [ 0 ] if Method == CRC : _RI = float ( CRC_RI_organic . at [ CASRN , 'RI' ] ) if full_info : _T = float ( CRC_RI_organic . at [ CASRN , 'RIT' ] ) elif Method == NONE : _RI , _T = None , None else : raise Exception ( 'Failure in in function' ) if full_info : return _RI , _T else : return _RI\",\n",
      "    \"raw\": \"def refractive_index(CASRN, T=None, AvailableMethods=False, Method=None,\\n                     full_info=True):\\n    r'''This function handles the retrieval of a chemical's refractive\\n    index. Lookup is based on CASRNs. Will automatically select a data source\\n    to use if no Method is provided; returns None if the data is not available.\\n\\n    Function has data for approximately 4500 chemicals.\\n\\n    Parameters\\n    ----------\\n    CASRN : string\\n        CASRN [-]\\n\\n    Returns\\n    -------\\n    RI : float\\n        Refractive Index on the Na D line, [-]\\n    T : float, only returned if full_info == True\\n        Temperature at which refractive index reading was made\\n    methods : list, only returned if AvailableMethods == True\\n        List of methods which can be used to obtain RI with the given inputs\\n\\n    Other Parameters\\n    ----------------\\n    Method : string, optional\\n        A string for the method name to use, as defined by constants in\\n        RI_methods\\n    AvailableMethods : bool, optional\\n        If True, function will determine which methods can be used to obtain\\n        RI for the desired chemical, and will return methods instead of RI\\n    full_info : bool, optional\\n        If True, function will return the temperature at which the refractive\\n        index reading was made\\n\\n    Notes\\n    -----\\n    Only one source is available in this function. It is:\\n\\n        * 'CRC', a compillation of Organic RI data in [1]_.\\n\\n    Examples\\n    --------\\n    >>> refractive_index(CASRN='64-17-5')\\n    (1.3611, 293.15)\\n\\n    References\\n    ----------\\n    .. [1] Haynes, W.M., Thomas J. Bruno, and David R. Lide. CRC Handbook of\\n       Chemistry and Physics, 95E. Boca Raton, FL: CRC press, 2014.\\n    '''\\n    def list_methods():\\n        methods = []\\n        if CASRN in CRC_RI_organic.index:\\n            methods.append(CRC)\\n        methods.append(NONE)\\n        return methods\\n    if AvailableMethods:\\n        return list_methods()\\n    if not Method:\\n        Method = list_methods()[0]\\n\\n    if Method == CRC:\\n        _RI = float(CRC_RI_organic.at[CASRN, 'RI'])\\n        if full_info:\\n            _T = float(CRC_RI_organic.at[CASRN, 'RIT'])\\n    elif Method == NONE:\\n        _RI, _T = None, None\\n    else:\\n        raise Exception('Failure in in function')\\n    if full_info:\\n        return _RI, _T\\n    else:\\n        return _RI\",\n",
      "    \"url\": \"https://github.com/CalebBell/thermo/blob/3857ed023a3e64fd3039a32d53576c24990ef1c3/thermo/refractivity.py#L44-L116\",\n",
      "    \"label\": 1\n",
      "}\n"
     ]
    }
   ],
   "source": [
    "codebase_raw = json.load(open('dev_codebase.json', 'r'))\n",
    "print(json.dumps(codebase_raw[0], indent=4))"
   ]
  },
  {
   "cell_type": "code",
   "execution_count": 11,
   "metadata": {},
   "outputs": [],
   "source": [
    "codebase = []\n",
    "\n",
    "for row in codebase_raw:\n",
    "    codebase_dict = {}\n",
    "    codebase_dict['id'] = 'codebase-python-{}'.format(row['idx'])\n",
    "    codebase_dict['code'] = row['code']\n",
    "    codebase_dict['text'] = row['doc']\n",
    "    codebase_dict['label'] = row['label']\n",
    "    codebase_dict['raw'] = row['raw']\n",
    "    codebase_dict['url'] = row['url']\n",
    "    codebase.append(codebase_dict)"
   ]
  },
  {
   "cell_type": "code",
   "execution_count": 12,
   "metadata": {},
   "outputs": [
    {
     "name": "stdout",
     "output_type": "stream",
     "text": [
      "28909\n"
     ]
    }
   ],
   "source": [
    "np.random.shuffle(codebase)\n",
    "print(len(codebase))"
   ]
  },
  {
   "cell_type": "code",
   "execution_count": 13,
   "metadata": {},
   "outputs": [],
   "source": [
    "with open('data_codebase.json', 'w') as f:\n",
    "    json.dump(codebase, f, indent=2)"
   ]
  },
  {
   "cell_type": "code",
   "execution_count": 14,
   "metadata": {},
   "outputs": [
    {
     "name": "stdout",
     "output_type": "stream",
     "text": [
      "[\n",
      "    {\n",
      "        \"id\": \"codebase-python-3586\",\n",
      "        \"code\": \"def _load_x509 ( certificate ) : source = certificate . dump ( ) cf_source = None try : cf_source = CFHelpers . cf_data_from_bytes ( source ) sec_key_ref = Security . SecCertificateCreateWithData ( CoreFoundation . kCFAllocatorDefault , cf_source ) return Certificate ( sec_key_ref , certificate ) finally : if cf_source : CoreFoundation . CFRelease ( cf_source )\",\n",
      "        \"text\": \"Loads an ASN . 1 object of an x509 certificate into a Certificate object\",\n",
      "        \"label\": 1,\n",
      "        \"raw\": \"def _load_x509(certificate):\\n    \\\"\\\"\\\"\\n    Loads an ASN.1 object of an x509 certificate into a Certificate object\\n\\n    :param certificate:\\n        An asn1crypto.x509.Certificate object\\n\\n    :return:\\n        A Certificate object\\n    \\\"\\\"\\\"\\n\\n    source = certificate.dump()\\n\\n    cf_source = None\\n    try:\\n        cf_source = CFHelpers.cf_data_from_bytes(source)\\n        sec_key_ref = Security.SecCertificateCreateWithData(CoreFoundation.kCFAllocatorDefault, cf_source)\\n        return Certificate(sec_key_ref, certificate)\\n\\n    finally:\\n        if cf_source:\\n            CoreFoundation.CFRelease(cf_source)\",\n",
      "        \"url\": \"https://github.com/wbond/oscrypto/blob/af778bf1c88bf6c4a7342f5353b130686a5bbe1c/oscrypto/_osx/asymmetric.py#L574-L595\"\n",
      "    },\n",
      "    {\n",
      "        \"id\": \"codebase-python-5878\",\n",
      "        \"code\": \"def sqlCreate ( self ) : count = 0 qry_str = \\\"CREATE TABLE Meter_Reads ( \\\\n\\\\r\\\" qry_str = self . fillCreate ( qry_str ) ekm_log ( qry_str , 4 ) return qry_str\",\n",
      "        \"text\": \"Reasonably portable SQL CREATE for defined fields . Returns : string : Portable as possible SQL Create for all - reads table .\",\n",
      "        \"label\": 1,\n",
      "        \"raw\": \"def sqlCreate(self):\\n        \\\"\\\"\\\" Reasonably portable SQL CREATE for defined fields.\\n        Returns:\\n            string: Portable as possible SQL Create for all-reads table.\\n        \\\"\\\"\\\"\\n        count = 0\\n        qry_str = \\\"CREATE TABLE Meter_Reads ( \\\\n\\\\r\\\"\\n        qry_str = self.fillCreate(qry_str)\\n        ekm_log(qry_str, 4)\\n        return qry_str\",\n",
      "        \"url\": \"https://github.com/ekmmetering/ekmmeters/blob/b3748bdf30263bfa46ea40157bdf8df2522e1904/ekmmeters.py#L1147-L1156\"\n",
      "    }\n",
      "]\n"
     ]
    }
   ],
   "source": [
    "print(json.dumps(codebase[:2], indent=4))"
   ]
  }
 ],
 "metadata": {
  "kernelspec": {
   "display_name": "Python 3 (ipykernel)",
   "language": "python",
   "name": "python3"
  },
  "language_info": {
   "codemirror_mode": {
    "name": "ipython",
    "version": 3
   },
   "file_extension": ".py",
   "mimetype": "text/x-python",
   "name": "python",
   "nbconvert_exporter": "python",
   "pygments_lexer": "ipython3",
   "version": "3.9.13"
  },
  "orig_nbformat": 4,
  "vscode": {
   "interpreter": {
    "hash": "f6b883c92240247a61f0a90bd9fcab4b7e88d74efaf3f0a2714ac8f9d9a63ad2"
   }
  }
 },
 "nbformat": 4,
 "nbformat_minor": 2
}
