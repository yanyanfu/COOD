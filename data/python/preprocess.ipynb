{
 "cells": [
  {
   "cell_type": "code",
   "execution_count": 7,
   "metadata": {},
   "outputs": [],
   "source": [
    "import json\n",
    "import os\n",
    "import numpy as np\n",
    "import regex as re\n",
    "import pandas as pd"
   ]
  },
  {
   "cell_type": "code",
   "execution_count": 8,
   "metadata": {},
   "outputs": [],
   "source": [
    "np.random.seed(0)"
   ]
  },
  {
   "cell_type": "code",
   "execution_count": 9,
   "metadata": {},
   "outputs": [
    {
     "name": "stdout",
     "output_type": "stream",
     "text": [
      "{\n",
      "    \"idx\": 1,\n",
      "    \"doc\": \"Return either the full or truncated version of a QIIME - formatted taxonomy string .\",\n",
      "    \"code\": \"def split_phylogeny ( p , level = \\\"s\\\" ) : level = level + \\\"__\\\" result = p . split ( level ) return result [ 0 ] + level + result [ 1 ] . split ( \\\";\\\" ) [ 0 ]\",\n",
      "    \"raw\": \"def split_phylogeny(p, level=\\\"s\\\"):\\n    \\\"\\\"\\\"\\n    Return either the full or truncated version of a QIIME-formatted taxonomy string.\\n\\n    :type p: str\\n    :param p: A QIIME-formatted taxonomy string: k__Foo; p__Bar; ...\\n\\n    :type level: str\\n    :param level: The different level of identification are kingdom (k), phylum (p),\\n                  class (c),order (o), family (f), genus (g) and species (s). If level is\\n                  not provided, the default level of identification is species.\\n\\n    :rtype: str\\n    :return: A QIIME-formatted taxonomy string up to the classification given\\n            by param level.\\n    \\\"\\\"\\\"\\n    level = level+\\\"__\\\"\\n    result = p.split(level)\\n    return result[0]+level+result[1].split(\\\";\\\")[0]\",\n",
      "    \"label\": 1\n",
      "}\n"
     ]
    }
   ],
   "source": [
    "train_raw = json.load(open('train_codesearchnet_0.json', 'r'))\n",
    "print(json.dumps(train_raw[0], indent=4))"
   ]
  },
  {
   "cell_type": "code",
   "execution_count": 10,
   "metadata": {},
   "outputs": [],
   "source": [
    "train = []\n",
    "\n",
    "for row in train_raw:\n",
    "    train_dict = {}\n",
    "    train_dict['id'] = 'train-python-{}'.format(row['idx'])\n",
    "    train_dict['code'] = row['code']\n",
    "    train_dict['text'] = row['doc']\n",
    "    train_dict['label'] = row['label']\n",
    "    train_dict['raw'] = row['raw']\n",
    "    train.append(train_dict)"
   ]
  },
  {
   "cell_type": "code",
   "execution_count": 11,
   "metadata": {},
   "outputs": [
    {
     "name": "stdout",
     "output_type": "stream",
     "text": [
      "{\n",
      "    \"idx\": 1,\n",
      "    \"doc\": \"str - > list Convert XML to URL List . From Biligrab .\",\n",
      "    \"code\": \"def sina_xml_to_url_list ( xml_data ) : rawurl = [ ] dom = parseString ( xml_data ) for node in dom . getElementsByTagName ( 'durl' ) : url = node . getElementsByTagName ( 'url' ) [ 0 ] rawurl . append ( url . childNodes [ 0 ] . data ) return rawurl\",\n",
      "    \"raw\": \"def sina_xml_to_url_list(xml_data):\\n    \\\"\\\"\\\"str->list\\n    Convert XML to URL List.\\n    From Biligrab.\\n    \\\"\\\"\\\"\\n    rawurl = []\\n    dom = parseString(xml_data)\\n    for node in dom.getElementsByTagName('durl'):\\n        url = node.getElementsByTagName('url')[0]\\n        rawurl.append(url.childNodes[0].data)\\n    return rawurl\",\n",
      "    \"label\": 1\n",
      "}\n"
     ]
    }
   ],
   "source": [
    "test_raw = json.load(open('dev_codesearchnet.json', 'r'))\n",
    "print(json.dumps(test_raw[0], indent=4))"
   ]
  },
  {
   "cell_type": "code",
   "execution_count": 12,
   "metadata": {},
   "outputs": [],
   "source": [
    "test = []\n",
    "\n",
    "for row in test_raw:\n",
    "    test_dict = {}\n",
    "    test_dict['id'] = 'test-python-{}'.format(row['idx'])\n",
    "    test_dict['code'] = row['code']\n",
    "    test_dict['text'] = row['doc']\n",
    "    test_dict['label'] = row['label']\n",
    "    test_dict['raw'] = row['raw']\n",
    "    test.append(test_dict)"
   ]
  },
  {
   "cell_type": "code",
   "execution_count": 13,
   "metadata": {},
   "outputs": [],
   "source": [
    "np.random.shuffle(train)\n",
    "np.random.shuffle(test)\n",
    "\n",
    "valid_size = int(len(train) * 0.1)\n",
    "valid = train[:valid_size]\n",
    "train = train[valid_size:]"
   ]
  },
  {
   "cell_type": "code",
   "execution_count": 14,
   "metadata": {},
   "outputs": [
    {
     "name": "stdout",
     "output_type": "stream",
     "text": [
      "226638\n",
      "25182\n",
      "14918\n"
     ]
    }
   ],
   "source": [
    "print(len(train))\n",
    "print(len(valid))\n",
    "print(len(test))"
   ]
  },
  {
   "cell_type": "code",
   "execution_count": 15,
   "metadata": {},
   "outputs": [],
   "source": [
    "with open('data_train.json', 'w') as f:\n",
    "    json.dump(train, f, indent=2)\n",
    "\n",
    "with open('data_valid.json', 'w') as f:\n",
    "    json.dump(valid, f, indent=2)\n",
    "\n",
    "with open('data_test.json', 'w') as f:\n",
    "    json.dump(test, f, indent=2)\n"
   ]
  },
  {
   "cell_type": "code",
   "execution_count": 16,
   "metadata": {},
   "outputs": [
    {
     "name": "stdout",
     "output_type": "stream",
     "text": [
      "{\n",
      "    \"idx\": 1,\n",
      "    \"doc\": \"r This function handles the retrieval of a chemical s refractive index . Lookup is based on CASRNs . Will automatically select a data source to use if no Method is provided ; returns None if the data is not available .\",\n",
      "    \"code\": \"def refractive_index ( CASRN , T = None , AvailableMethods = False , Method = None , full_info = True ) : def list_methods ( ) : methods = [ ] if CASRN in CRC_RI_organic . index : methods . append ( CRC ) methods . append ( NONE ) return methods if AvailableMethods : return list_methods ( ) if not Method : Method = list_methods ( ) [ 0 ] if Method == CRC : _RI = float ( CRC_RI_organic . at [ CASRN , 'RI' ] ) if full_info : _T = float ( CRC_RI_organic . at [ CASRN , 'RIT' ] ) elif Method == NONE : _RI , _T = None , None else : raise Exception ( 'Failure in in function' ) if full_info : return _RI , _T else : return _RI\",\n",
      "    \"raw\": \"def refractive_index(CASRN, T=None, AvailableMethods=False, Method=None,\\n                     full_info=True):\\n    r'''This function handles the retrieval of a chemical's refractive\\n    index. Lookup is based on CASRNs. Will automatically select a data source\\n    to use if no Method is provided; returns None if the data is not available.\\n\\n    Function has data for approximately 4500 chemicals.\\n\\n    Parameters\\n    ----------\\n    CASRN : string\\n        CASRN [-]\\n\\n    Returns\\n    -------\\n    RI : float\\n        Refractive Index on the Na D line, [-]\\n    T : float, only returned if full_info == True\\n        Temperature at which refractive index reading was made\\n    methods : list, only returned if AvailableMethods == True\\n        List of methods which can be used to obtain RI with the given inputs\\n\\n    Other Parameters\\n    ----------------\\n    Method : string, optional\\n        A string for the method name to use, as defined by constants in\\n        RI_methods\\n    AvailableMethods : bool, optional\\n        If True, function will determine which methods can be used to obtain\\n        RI for the desired chemical, and will return methods instead of RI\\n    full_info : bool, optional\\n        If True, function will return the temperature at which the refractive\\n        index reading was made\\n\\n    Notes\\n    -----\\n    Only one source is available in this function. It is:\\n\\n        * 'CRC', a compillation of Organic RI data in [1]_.\\n\\n    Examples\\n    --------\\n    >>> refractive_index(CASRN='64-17-5')\\n    (1.3611, 293.15)\\n\\n    References\\n    ----------\\n    .. [1] Haynes, W.M., Thomas J. Bruno, and David R. Lide. CRC Handbook of\\n       Chemistry and Physics, 95E. Boca Raton, FL: CRC press, 2014.\\n    '''\\n    def list_methods():\\n        methods = []\\n        if CASRN in CRC_RI_organic.index:\\n            methods.append(CRC)\\n        methods.append(NONE)\\n        return methods\\n    if AvailableMethods:\\n        return list_methods()\\n    if not Method:\\n        Method = list_methods()[0]\\n\\n    if Method == CRC:\\n        _RI = float(CRC_RI_organic.at[CASRN, 'RI'])\\n        if full_info:\\n            _T = float(CRC_RI_organic.at[CASRN, 'RIT'])\\n    elif Method == NONE:\\n        _RI, _T = None, None\\n    else:\\n        raise Exception('Failure in in function')\\n    if full_info:\\n        return _RI, _T\\n    else:\\n        return _RI\",\n",
      "    \"label\": 1\n",
      "}\n"
     ]
    }
   ],
   "source": [
    "codebase_raw = json.load(open('dev_codebase.json', 'r'))\n",
    "print(json.dumps(codebase_raw[0], indent=4))"
   ]
  },
  {
   "cell_type": "code",
   "execution_count": 17,
   "metadata": {},
   "outputs": [],
   "source": [
    "\n",
    "codebase = []\n",
    "\n",
    "for row in codebase_raw:\n",
    "    codebase_dict = {}\n",
    "    codebase_dict['id'] = 'codebase-python-{}'.format(row['idx'])\n",
    "    codebase_dict['code'] = row['code']\n",
    "    codebase_dict['text'] = row['doc']\n",
    "    codebase_dict['label'] = row['label']\n",
    "    codebase_dict['raw'] = row['raw']\n",
    "    codebase.append(codebase_dict)"
   ]
  },
  {
   "cell_type": "code",
   "execution_count": 18,
   "metadata": {},
   "outputs": [
    {
     "name": "stdout",
     "output_type": "stream",
     "text": [
      "28909\n"
     ]
    }
   ],
   "source": [
    "np.random.shuffle(codebase)\n",
    "print(len(codebase))"
   ]
  },
  {
   "cell_type": "code",
   "execution_count": 19,
   "metadata": {},
   "outputs": [],
   "source": [
    "with open('data_codebase.json', 'w') as f:\n",
    "    json.dump(codebase, f, indent=2)"
   ]
  },
  {
   "cell_type": "code",
   "execution_count": 23,
   "metadata": {},
   "outputs": [
    {
     "name": "stdout",
     "output_type": "stream",
     "text": [
      "[\n",
      "    {\n",
      "        \"id\": \"train-python-39201\",\n",
      "        \"code\": \"def public ( self , username = None ) : username = username or self . bitbucket . username or '' url = self . bitbucket . url ( 'GET_USER' , username = username ) response = self . bitbucket . dispatch ( 'GET' , url ) try : return ( response [ 0 ] , response [ 1 ] [ 'repositories' ] ) except TypeError : pass return response\",\n",
      "        \"text\": \"Returns all public repositories from an user . If username is not defined tries to return own public repos .\",\n",
      "        \"label\": 1,\n",
      "        \"raw\": \"def public(self, username=None):\\n        \\\"\\\"\\\" Returns all public repositories from an user.\\n            If username is not defined, tries to return own public repos.\\n        \\\"\\\"\\\"\\n        username = username or self.bitbucket.username or ''\\n        url = self.bitbucket.url('GET_USER', username=username)\\n        response = self.bitbucket.dispatch('GET', url)\\n        try:\\n            return (response[0], response[1]['repositories'])\\n        except TypeError:\\n            pass\\n        return response\"\n",
      "    },\n",
      "    {\n",
      "        \"id\": \"train-python-78370\",\n",
      "        \"code\": \"def exec_module ( self , module ) : code = self . get_code ( module . __name__ ) if code is None : raise ImportError ( 'cannot load module {!r} when get_code() ' 'returns None' . format ( module . __name__ ) ) exec ( code , module . __dict__ )\",\n",
      "        \"text\": \"Execute the module .\",\n",
      "        \"label\": 1,\n",
      "        \"raw\": \"def exec_module(self, module):\\n        \\\"\\\"\\\"Execute the module.\\\"\\\"\\\"\\n        code = self.get_code(module.__name__)\\n        if code is None:\\n            raise ImportError('cannot load module {!r} when get_code() '\\n                              'returns None'.format(module.__name__))\\n\\n        exec(code, module.__dict__)\"\n",
      "    }\n",
      "]\n"
     ]
    }
   ],
   "source": [
    "print(json.dumps(valid[:2], indent=4))"
   ]
  }
 ],
 "metadata": {
  "kernelspec": {
   "display_name": "Python 3.9.12 ('torch-env')",
   "language": "python",
   "name": "python3"
  },
  "language_info": {
   "codemirror_mode": {
    "name": "ipython",
    "version": 3
   },
   "file_extension": ".py",
   "mimetype": "text/x-python",
   "name": "python",
   "nbconvert_exporter": "python",
   "pygments_lexer": "ipython3",
   "version": "3.9.13"
  },
  "orig_nbformat": 4,
  "vscode": {
   "interpreter": {
    "hash": "f6b883c92240247a61f0a90bd9fcab4b7e88d74efaf3f0a2714ac8f9d9a63ad2"
   }
  }
 },
 "nbformat": 4,
 "nbformat_minor": 2
}
